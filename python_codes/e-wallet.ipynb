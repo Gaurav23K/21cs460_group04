{
 "cells": [
  {
   "cell_type": "code",
   "execution_count": 2,
   "metadata": {},
   "outputs": [
    {
     "data": {
      "text/html": [
       "<div>\n",
       "<style scoped>\n",
       "    .dataframe tbody tr th:only-of-type {\n",
       "        vertical-align: middle;\n",
       "    }\n",
       "\n",
       "    .dataframe tbody tr th {\n",
       "        vertical-align: top;\n",
       "    }\n",
       "\n",
       "    .dataframe thead th {\n",
       "        text-align: right;\n",
       "    }\n",
       "</style>\n",
       "<table border=\"1\" class=\"dataframe\">\n",
       "  <thead>\n",
       "    <tr style=\"text-align: right;\">\n",
       "      <th></th>\n",
       "      <th>cen_roun</th>\n",
       "      <th>fsu_no</th>\n",
       "      <th>round</th>\n",
       "      <th>sch_no</th>\n",
       "      <th>sample</th>\n",
       "      <th>sector</th>\n",
       "      <th>state</th>\n",
       "      <th>s_regon</th>\n",
       "      <th>distric</th>\n",
       "      <th>stratum</th>\n",
       "      <th>sub_stno</th>\n",
       "      <th>sub_rnd</th>\n",
       "      <th>fod_subr</th>\n",
       "      <th>sss</th>\n",
       "      <th>hhd_no</th>\n",
       "      <th>visit_no</th>\n",
       "      <th>level</th>\n",
       "      <th>filler</th>\n",
       "      <th>per_l2</th>\n",
       "      <th>rel</th>\n",
       "      <th>gender</th>\n",
       "      <th>age</th>\n",
       "      <th>edu</th>\n",
       "      <th>h_cb</th>\n",
       "      <th>h_po</th>\n",
       "      <th>nbfc</th>\n",
       "      <th>shg</th>\n",
       "      <th>non_in</th>\n",
       "      <th>lnd_l2</th>\n",
       "      <th>ag_l2</th>\n",
       "      <th>crd_l2</th>\n",
       "      <th>crd_u</th>\n",
       "      <th>e_walt</th>\n",
       "      <th>u_ewal</th>\n",
       "      <th>nsc</th>\n",
       "      <th>mlt</th>\n",
       "    </tr>\n",
       "  </thead>\n",
       "  <tbody>\n",
       "    <tr>\n",
       "      <th>0</th>\n",
       "      <td>771.0</td>\n",
       "      <td>50030.0</td>\n",
       "      <td>77.0</td>\n",
       "      <td>182.0</td>\n",
       "      <td>1.0</td>\n",
       "      <td>1.0</td>\n",
       "      <td>24.0</td>\n",
       "      <td>241.0</td>\n",
       "      <td>25.0</td>\n",
       "      <td>25.0</td>\n",
       "      <td>31.0</td>\n",
       "      <td>2.0</td>\n",
       "      <td>2423.0</td>\n",
       "      <td>1.0</td>\n",
       "      <td>1.0</td>\n",
       "      <td>1.0</td>\n",
       "      <td>2.0</td>\n",
       "      <td>0.0</td>\n",
       "      <td>1.0</td>\n",
       "      <td>1.0</td>\n",
       "      <td>1.0</td>\n",
       "      <td>48.0</td>\n",
       "      <td>2.0</td>\n",
       "      <td>1.0</td>\n",
       "      <td>2.0</td>\n",
       "      <td>2.0</td>\n",
       "      <td>2.0</td>\n",
       "      <td>2.0</td>\n",
       "      <td>1.0</td>\n",
       "      <td>1.0</td>\n",
       "      <td>2.0</td>\n",
       "      <td>NaN</td>\n",
       "      <td>2.0</td>\n",
       "      <td>NaN</td>\n",
       "      <td>2.0</td>\n",
       "      <td>351750.0</td>\n",
       "    </tr>\n",
       "    <tr>\n",
       "      <th>1</th>\n",
       "      <td>771.0</td>\n",
       "      <td>50030.0</td>\n",
       "      <td>77.0</td>\n",
       "      <td>182.0</td>\n",
       "      <td>1.0</td>\n",
       "      <td>1.0</td>\n",
       "      <td>24.0</td>\n",
       "      <td>241.0</td>\n",
       "      <td>25.0</td>\n",
       "      <td>25.0</td>\n",
       "      <td>31.0</td>\n",
       "      <td>2.0</td>\n",
       "      <td>2423.0</td>\n",
       "      <td>1.0</td>\n",
       "      <td>1.0</td>\n",
       "      <td>1.0</td>\n",
       "      <td>2.0</td>\n",
       "      <td>0.0</td>\n",
       "      <td>2.0</td>\n",
       "      <td>2.0</td>\n",
       "      <td>2.0</td>\n",
       "      <td>45.0</td>\n",
       "      <td>4.0</td>\n",
       "      <td>1.0</td>\n",
       "      <td>2.0</td>\n",
       "      <td>2.0</td>\n",
       "      <td>2.0</td>\n",
       "      <td>2.0</td>\n",
       "      <td>2.0</td>\n",
       "      <td>NaN</td>\n",
       "      <td>2.0</td>\n",
       "      <td>NaN</td>\n",
       "      <td>2.0</td>\n",
       "      <td>NaN</td>\n",
       "      <td>2.0</td>\n",
       "      <td>351750.0</td>\n",
       "    </tr>\n",
       "    <tr>\n",
       "      <th>2</th>\n",
       "      <td>771.0</td>\n",
       "      <td>50030.0</td>\n",
       "      <td>77.0</td>\n",
       "      <td>182.0</td>\n",
       "      <td>1.0</td>\n",
       "      <td>1.0</td>\n",
       "      <td>24.0</td>\n",
       "      <td>241.0</td>\n",
       "      <td>25.0</td>\n",
       "      <td>25.0</td>\n",
       "      <td>31.0</td>\n",
       "      <td>2.0</td>\n",
       "      <td>2423.0</td>\n",
       "      <td>1.0</td>\n",
       "      <td>1.0</td>\n",
       "      <td>1.0</td>\n",
       "      <td>2.0</td>\n",
       "      <td>0.0</td>\n",
       "      <td>3.0</td>\n",
       "      <td>3.0</td>\n",
       "      <td>1.0</td>\n",
       "      <td>23.0</td>\n",
       "      <td>3.0</td>\n",
       "      <td>4.0</td>\n",
       "      <td>2.0</td>\n",
       "      <td>2.0</td>\n",
       "      <td>2.0</td>\n",
       "      <td>2.0</td>\n",
       "      <td>2.0</td>\n",
       "      <td>NaN</td>\n",
       "      <td>2.0</td>\n",
       "      <td>NaN</td>\n",
       "      <td>2.0</td>\n",
       "      <td>NaN</td>\n",
       "      <td>2.0</td>\n",
       "      <td>351750.0</td>\n",
       "    </tr>\n",
       "    <tr>\n",
       "      <th>3</th>\n",
       "      <td>771.0</td>\n",
       "      <td>50030.0</td>\n",
       "      <td>77.0</td>\n",
       "      <td>182.0</td>\n",
       "      <td>1.0</td>\n",
       "      <td>1.0</td>\n",
       "      <td>24.0</td>\n",
       "      <td>241.0</td>\n",
       "      <td>25.0</td>\n",
       "      <td>25.0</td>\n",
       "      <td>31.0</td>\n",
       "      <td>2.0</td>\n",
       "      <td>2423.0</td>\n",
       "      <td>1.0</td>\n",
       "      <td>1.0</td>\n",
       "      <td>1.0</td>\n",
       "      <td>2.0</td>\n",
       "      <td>0.0</td>\n",
       "      <td>4.0</td>\n",
       "      <td>4.0</td>\n",
       "      <td>2.0</td>\n",
       "      <td>19.0</td>\n",
       "      <td>4.0</td>\n",
       "      <td>4.0</td>\n",
       "      <td>2.0</td>\n",
       "      <td>2.0</td>\n",
       "      <td>2.0</td>\n",
       "      <td>2.0</td>\n",
       "      <td>2.0</td>\n",
       "      <td>NaN</td>\n",
       "      <td>2.0</td>\n",
       "      <td>NaN</td>\n",
       "      <td>2.0</td>\n",
       "      <td>NaN</td>\n",
       "      <td>2.0</td>\n",
       "      <td>351750.0</td>\n",
       "    </tr>\n",
       "    <tr>\n",
       "      <th>4</th>\n",
       "      <td>771.0</td>\n",
       "      <td>50030.0</td>\n",
       "      <td>77.0</td>\n",
       "      <td>182.0</td>\n",
       "      <td>1.0</td>\n",
       "      <td>1.0</td>\n",
       "      <td>24.0</td>\n",
       "      <td>241.0</td>\n",
       "      <td>25.0</td>\n",
       "      <td>25.0</td>\n",
       "      <td>31.0</td>\n",
       "      <td>2.0</td>\n",
       "      <td>2423.0</td>\n",
       "      <td>1.0</td>\n",
       "      <td>1.0</td>\n",
       "      <td>1.0</td>\n",
       "      <td>2.0</td>\n",
       "      <td>0.0</td>\n",
       "      <td>5.0</td>\n",
       "      <td>5.0</td>\n",
       "      <td>2.0</td>\n",
       "      <td>21.0</td>\n",
       "      <td>11.0</td>\n",
       "      <td>1.0</td>\n",
       "      <td>2.0</td>\n",
       "      <td>2.0</td>\n",
       "      <td>2.0</td>\n",
       "      <td>2.0</td>\n",
       "      <td>2.0</td>\n",
       "      <td>NaN</td>\n",
       "      <td>1.0</td>\n",
       "      <td>1.0</td>\n",
       "      <td>2.0</td>\n",
       "      <td>NaN</td>\n",
       "      <td>2.0</td>\n",
       "      <td>351750.0</td>\n",
       "    </tr>\n",
       "  </tbody>\n",
       "</table>\n",
       "</div>"
      ],
      "text/plain": [
       "   cen_roun   fsu_no  round  sch_no  sample  sector  state  s_regon  distric  \\\n",
       "0     771.0  50030.0   77.0   182.0     1.0     1.0   24.0    241.0     25.0   \n",
       "1     771.0  50030.0   77.0   182.0     1.0     1.0   24.0    241.0     25.0   \n",
       "2     771.0  50030.0   77.0   182.0     1.0     1.0   24.0    241.0     25.0   \n",
       "3     771.0  50030.0   77.0   182.0     1.0     1.0   24.0    241.0     25.0   \n",
       "4     771.0  50030.0   77.0   182.0     1.0     1.0   24.0    241.0     25.0   \n",
       "\n",
       "   stratum  sub_stno  sub_rnd  fod_subr  sss  hhd_no  visit_no  level  filler  \\\n",
       "0     25.0      31.0      2.0    2423.0  1.0     1.0       1.0    2.0     0.0   \n",
       "1     25.0      31.0      2.0    2423.0  1.0     1.0       1.0    2.0     0.0   \n",
       "2     25.0      31.0      2.0    2423.0  1.0     1.0       1.0    2.0     0.0   \n",
       "3     25.0      31.0      2.0    2423.0  1.0     1.0       1.0    2.0     0.0   \n",
       "4     25.0      31.0      2.0    2423.0  1.0     1.0       1.0    2.0     0.0   \n",
       "\n",
       "   per_l2  rel  gender   age   edu  h_cb  h_po  nbfc  shg  non_in  lnd_l2  \\\n",
       "0     1.0  1.0     1.0  48.0   2.0   1.0   2.0   2.0  2.0     2.0     1.0   \n",
       "1     2.0  2.0     2.0  45.0   4.0   1.0   2.0   2.0  2.0     2.0     2.0   \n",
       "2     3.0  3.0     1.0  23.0   3.0   4.0   2.0   2.0  2.0     2.0     2.0   \n",
       "3     4.0  4.0     2.0  19.0   4.0   4.0   2.0   2.0  2.0     2.0     2.0   \n",
       "4     5.0  5.0     2.0  21.0  11.0   1.0   2.0   2.0  2.0     2.0     2.0   \n",
       "\n",
       "   ag_l2  crd_l2  crd_u  e_walt  u_ewal  nsc       mlt  \n",
       "0    1.0     2.0    NaN     2.0     NaN  2.0  351750.0  \n",
       "1    NaN     2.0    NaN     2.0     NaN  2.0  351750.0  \n",
       "2    NaN     2.0    NaN     2.0     NaN  2.0  351750.0  \n",
       "3    NaN     2.0    NaN     2.0     NaN  2.0  351750.0  \n",
       "4    NaN     1.0    1.0     2.0     NaN  2.0  351750.0  "
      ]
     },
     "execution_count": 2,
     "metadata": {},
     "output_type": "execute_result"
    }
   ],
   "source": [
    "import pandas as pd\n",
    "import pyreadstat\n",
    "import numpy as np\n",
    "import matplotlib.pyplot as plt\n",
    "\n",
    "df = pd.read_spss('LEVEL02_1.sav')\n",
    "df, meta = pyreadstat.read_sav('LEVEL02_1.sav')\n",
    "type(df)\n",
    "pd.set_option('display.max_columns', None)\n",
    "pd.set_option(\"max_rows\", 30)\n",
    "df.head()"
   ]
  },
  {
   "cell_type": "code",
   "execution_count": 3,
   "metadata": {},
   "outputs": [
    {
     "name": "stdout",
     "output_type": "stream",
     "text": [
      "<class 'pandas.core.frame.DataFrame'>\n",
      "RangeIndex: 319343 entries, 0 to 319342\n",
      "Data columns (total 36 columns):\n",
      " #   Column    Non-Null Count   Dtype  \n",
      "---  ------    --------------   -----  \n",
      " 0   cen_roun  319343 non-null  float64\n",
      " 1   fsu_no    319343 non-null  float64\n",
      " 2   round     319343 non-null  float64\n",
      " 3   sch_no    319343 non-null  float64\n",
      " 4   sample    319299 non-null  float64\n",
      " 5   sector    319343 non-null  float64\n",
      " 6   state     319343 non-null  float64\n",
      " 7   s_regon   319343 non-null  float64\n",
      " 8   distric   319343 non-null  float64\n",
      " 9   stratum   319343 non-null  float64\n",
      " 10  sub_stno  319343 non-null  float64\n",
      " 11  sub_rnd   319343 non-null  float64\n",
      " 12  fod_subr  300387 non-null  float64\n",
      " 13  sss       319343 non-null  float64\n",
      " 14  hhd_no    319343 non-null  float64\n",
      " 15  visit_no  319343 non-null  float64\n",
      " 16  level     319343 non-null  float64\n",
      " 17  filler    319343 non-null  float64\n",
      " 18  per_l2    319343 non-null  float64\n",
      " 19  rel       319343 non-null  float64\n",
      " 20  gender    319343 non-null  float64\n",
      " 21  age       319343 non-null  float64\n",
      " 22  edu       319334 non-null  float64\n",
      " 23  h_cb      319343 non-null  float64\n",
      " 24  h_po      319343 non-null  float64\n",
      " 25  nbfc      319343 non-null  float64\n",
      " 26  shg       319343 non-null  float64\n",
      " 27  non_in    319343 non-null  float64\n",
      " 28  lnd_l2    319343 non-null  float64\n",
      " 29  ag_l2     73459 non-null   float64\n",
      " 30  crd_l2    218009 non-null  float64\n",
      " 31  crd_u     71993 non-null   float64\n",
      " 32  e_walt    218009 non-null  float64\n",
      " 33  u_ewal    7847 non-null    float64\n",
      " 34  nsc       319343 non-null  float64\n",
      " 35  mlt       319343 non-null  float64\n",
      "dtypes: float64(36)\n",
      "memory usage: 87.7 MB\n"
     ]
    }
   ],
   "source": [
    "df.info()"
   ]
  },
  {
   "cell_type": "code",
   "execution_count": 5,
   "metadata": {},
   "outputs": [
    {
     "ename": "TypeError",
     "evalue": "'numpy.int32' object is not callable",
     "output_type": "error",
     "traceback": [
      "\u001b[1;31m---------------------------------------------------------------------------\u001b[0m",
      "\u001b[1;31mTypeError\u001b[0m                                 Traceback (most recent call last)",
      "\u001b[1;32m<ipython-input-5-5098ab42f864>\u001b[0m in \u001b[0;36m<module>\u001b[1;34m\u001b[0m\n\u001b[1;32m----> 1\u001b[1;33m \u001b[0mdf\u001b[0m\u001b[1;33m.\u001b[0m\u001b[0msize\u001b[0m\u001b[1;33m(\u001b[0m\u001b[1;33m)\u001b[0m\u001b[1;33m\u001b[0m\u001b[1;33m\u001b[0m\u001b[0m\n\u001b[0m",
      "\u001b[1;31mTypeError\u001b[0m: 'numpy.int32' object is not callable"
     ]
    }
   ],
   "source": [
    "df.size()"
   ]
  },
  {
   "cell_type": "code",
   "execution_count": 6,
   "metadata": {},
   "outputs": [
    {
     "data": {
      "text/plain": [
       "(319343, 36)"
      ]
     },
     "execution_count": 6,
     "metadata": {},
     "output_type": "execute_result"
    }
   ],
   "source": [
    "df.shape"
   ]
  },
  {
   "cell_type": "code",
   "execution_count": 7,
   "metadata": {},
   "outputs": [
    {
     "data": {
      "text/plain": [
       "<bound method NDFrame.describe of         cen_roun   fsu_no  round  sch_no  sample  sector  state  s_regon  \\\n",
       "0          771.0  50030.0   77.0   182.0     1.0     1.0   24.0    241.0   \n",
       "1          771.0  50030.0   77.0   182.0     1.0     1.0   24.0    241.0   \n",
       "2          771.0  50030.0   77.0   182.0     1.0     1.0   24.0    241.0   \n",
       "3          771.0  50030.0   77.0   182.0     1.0     1.0   24.0    241.0   \n",
       "4          771.0  50030.0   77.0   182.0     1.0     1.0   24.0    241.0   \n",
       "...          ...      ...    ...     ...     ...     ...    ...      ...   \n",
       "319338     771.0  73999.0   77.0   182.0     1.0     2.0    3.0     32.0   \n",
       "319339     771.0  73999.0   77.0   182.0     1.0     2.0    3.0     32.0   \n",
       "319340     771.0  73999.0   77.0   182.0     1.0     2.0    3.0     32.0   \n",
       "319341     771.0  73999.0   77.0   182.0     1.0     2.0    3.0     32.0   \n",
       "319342     771.0  73999.0   77.0   182.0     1.0     2.0    3.0     32.0   \n",
       "\n",
       "        distric  stratum  sub_stno  sub_rnd  fod_subr  sss  hhd_no  visit_no  \\\n",
       "0          25.0     25.0      31.0      2.0    2423.0  1.0     1.0       1.0   \n",
       "1          25.0     25.0      31.0      2.0    2423.0  1.0     1.0       1.0   \n",
       "2          25.0     25.0      31.0      2.0    2423.0  1.0     1.0       1.0   \n",
       "3          25.0     25.0      31.0      2.0    2423.0  1.0     1.0       1.0   \n",
       "4          25.0     25.0      31.0      2.0    2423.0  1.0     1.0       1.0   \n",
       "...         ...      ...       ...      ...       ...  ...     ...       ...   \n",
       "319338      7.0      7.0       1.0      1.0     321.0  6.0     2.0       1.0   \n",
       "319339      7.0      7.0       1.0      1.0     321.0  6.0     2.0       1.0   \n",
       "319340      7.0      7.0       1.0      1.0     321.0  6.0     2.0       1.0   \n",
       "319341      7.0      7.0       1.0      1.0     321.0  6.0     2.0       1.0   \n",
       "319342      7.0      7.0       1.0      1.0     321.0  6.0     2.0       1.0   \n",
       "\n",
       "        level  filler  per_l2  rel  gender   age   edu  h_cb  h_po  nbfc  shg  \\\n",
       "0         2.0     0.0     1.0  1.0     1.0  48.0   2.0   1.0   2.0   2.0  2.0   \n",
       "1         2.0     0.0     2.0  2.0     2.0  45.0   4.0   1.0   2.0   2.0  2.0   \n",
       "2         2.0     0.0     3.0  3.0     1.0  23.0   3.0   4.0   2.0   2.0  2.0   \n",
       "3         2.0     0.0     4.0  4.0     2.0  19.0   4.0   4.0   2.0   2.0  2.0   \n",
       "4         2.0     0.0     5.0  5.0     2.0  21.0  11.0   1.0   2.0   2.0  2.0   \n",
       "...       ...     ...     ...  ...     ...   ...   ...   ...   ...   ...  ...   \n",
       "319338    2.0     0.0     5.0  6.0     1.0  16.0   5.0   1.0   2.0   2.0  2.0   \n",
       "319339    2.0     0.0     6.0  3.0     1.0  40.0   5.0   1.0   2.0   2.0  2.0   \n",
       "319340    2.0     0.0     7.0  4.0     2.0  38.0   3.0   1.0   2.0   2.0  2.0   \n",
       "319341    2.0     0.0     8.0  6.0     2.0  15.0   3.0   2.0   2.0   2.0  2.0   \n",
       "319342    2.0     0.0     9.0  6.0     2.0  10.0   3.0   2.0   2.0   2.0  2.0   \n",
       "\n",
       "        non_in  lnd_l2  ag_l2  crd_l2  crd_u  e_walt  u_ewal  nsc        mlt  \n",
       "0          2.0     1.0    1.0     2.0    NaN     2.0     NaN  2.0   351750.0  \n",
       "1          2.0     2.0    NaN     2.0    NaN     2.0     NaN  2.0   351750.0  \n",
       "2          2.0     2.0    NaN     2.0    NaN     2.0     NaN  2.0   351750.0  \n",
       "3          2.0     2.0    NaN     2.0    NaN     2.0     NaN  2.0   351750.0  \n",
       "4          2.0     2.0    NaN     1.0    1.0     2.0     NaN  2.0   351750.0  \n",
       "...        ...     ...    ...     ...    ...     ...     ...  ...        ...  \n",
       "319338     2.0     2.0    NaN     NaN    NaN     NaN     NaN  2.0  1825800.0  \n",
       "319339     2.0     2.0    NaN     1.0    1.0     2.0     NaN  2.0  1825800.0  \n",
       "319340     2.0     2.0    NaN     1.0    1.0     2.0     NaN  2.0  1825800.0  \n",
       "319341     2.0     2.0    NaN     NaN    NaN     NaN     NaN  2.0  1825800.0  \n",
       "319342     2.0     2.0    NaN     NaN    NaN     NaN     NaN  2.0  1825800.0  \n",
       "\n",
       "[319343 rows x 36 columns]>"
      ]
     },
     "execution_count": 7,
     "metadata": {},
     "output_type": "execute_result"
    }
   ],
   "source": [
    "df.describe"
   ]
  },
  {
   "cell_type": "code",
   "execution_count": 8,
   "metadata": {},
   "outputs": [
    {
     "data": {
      "text/html": [
       "<div>\n",
       "<style scoped>\n",
       "    .dataframe tbody tr th:only-of-type {\n",
       "        vertical-align: middle;\n",
       "    }\n",
       "\n",
       "    .dataframe tbody tr th {\n",
       "        vertical-align: top;\n",
       "    }\n",
       "\n",
       "    .dataframe thead th {\n",
       "        text-align: right;\n",
       "    }\n",
       "</style>\n",
       "<table border=\"1\" class=\"dataframe\">\n",
       "  <thead>\n",
       "    <tr style=\"text-align: right;\">\n",
       "      <th>crd_u</th>\n",
       "      <th>1.0</th>\n",
       "      <th>2.0</th>\n",
       "      <th>All</th>\n",
       "    </tr>\n",
       "    <tr>\n",
       "      <th>gender</th>\n",
       "      <th></th>\n",
       "      <th></th>\n",
       "      <th></th>\n",
       "    </tr>\n",
       "  </thead>\n",
       "  <tbody>\n",
       "    <tr>\n",
       "      <th>1.0</th>\n",
       "      <td>40495</td>\n",
       "      <td>8098</td>\n",
       "      <td>48593</td>\n",
       "    </tr>\n",
       "    <tr>\n",
       "      <th>2.0</th>\n",
       "      <td>16298</td>\n",
       "      <td>7091</td>\n",
       "      <td>23389</td>\n",
       "    </tr>\n",
       "    <tr>\n",
       "      <th>3.0</th>\n",
       "      <td>8</td>\n",
       "      <td>3</td>\n",
       "      <td>11</td>\n",
       "    </tr>\n",
       "    <tr>\n",
       "      <th>All</th>\n",
       "      <td>56801</td>\n",
       "      <td>15192</td>\n",
       "      <td>71993</td>\n",
       "    </tr>\n",
       "  </tbody>\n",
       "</table>\n",
       "</div>"
      ],
      "text/plain": [
       "crd_u     1.0    2.0    All\n",
       "gender                     \n",
       "1.0     40495   8098  48593\n",
       "2.0     16298   7091  23389\n",
       "3.0         8      3     11\n",
       "All     56801  15192  71993"
      ]
     },
     "execution_count": 8,
     "metadata": {},
     "output_type": "execute_result"
    }
   ],
   "source": [
    "pd.crosstab(df['gender'], df['crd_u'], margins=True)"
   ]
  },
  {
   "cell_type": "code",
   "execution_count": 9,
   "metadata": {},
   "outputs": [
    {
     "data": {
      "text/html": [
       "<div>\n",
       "<style scoped>\n",
       "    .dataframe tbody tr th:only-of-type {\n",
       "        vertical-align: middle;\n",
       "    }\n",
       "\n",
       "    .dataframe tbody tr th {\n",
       "        vertical-align: top;\n",
       "    }\n",
       "\n",
       "    .dataframe thead th {\n",
       "        text-align: right;\n",
       "    }\n",
       "</style>\n",
       "<table border=\"1\" class=\"dataframe\">\n",
       "  <thead>\n",
       "    <tr style=\"text-align: right;\">\n",
       "      <th>e_walt</th>\n",
       "      <th>1.0</th>\n",
       "      <th>2.0</th>\n",
       "      <th>All</th>\n",
       "    </tr>\n",
       "    <tr>\n",
       "      <th>gender</th>\n",
       "      <th></th>\n",
       "      <th></th>\n",
       "      <th></th>\n",
       "    </tr>\n",
       "  </thead>\n",
       "  <tbody>\n",
       "    <tr>\n",
       "      <th>1.0</th>\n",
       "      <td>6299</td>\n",
       "      <td>103816</td>\n",
       "      <td>110115</td>\n",
       "    </tr>\n",
       "    <tr>\n",
       "      <th>2.0</th>\n",
       "      <td>1547</td>\n",
       "      <td>106296</td>\n",
       "      <td>107843</td>\n",
       "    </tr>\n",
       "    <tr>\n",
       "      <th>3.0</th>\n",
       "      <td>1</td>\n",
       "      <td>50</td>\n",
       "      <td>51</td>\n",
       "    </tr>\n",
       "    <tr>\n",
       "      <th>All</th>\n",
       "      <td>7847</td>\n",
       "      <td>210162</td>\n",
       "      <td>218009</td>\n",
       "    </tr>\n",
       "  </tbody>\n",
       "</table>\n",
       "</div>"
      ],
      "text/plain": [
       "e_walt   1.0     2.0     All\n",
       "gender                      \n",
       "1.0     6299  103816  110115\n",
       "2.0     1547  106296  107843\n",
       "3.0        1      50      51\n",
       "All     7847  210162  218009"
      ]
     },
     "execution_count": 9,
     "metadata": {},
     "output_type": "execute_result"
    }
   ],
   "source": [
    "pd.crosstab(df['gender'], df['e_walt'], margins=True)"
   ]
  },
  {
   "cell_type": "code",
   "execution_count": 10,
   "metadata": {},
   "outputs": [
    {
     "data": {
      "text/html": [
       "<div>\n",
       "<style scoped>\n",
       "    .dataframe tbody tr th:only-of-type {\n",
       "        vertical-align: middle;\n",
       "    }\n",
       "\n",
       "    .dataframe tbody tr th {\n",
       "        vertical-align: top;\n",
       "    }\n",
       "\n",
       "    .dataframe thead th {\n",
       "        text-align: right;\n",
       "    }\n",
       "</style>\n",
       "<table border=\"1\" class=\"dataframe\">\n",
       "  <thead>\n",
       "    <tr style=\"text-align: right;\">\n",
       "      <th>crd_u</th>\n",
       "      <th>1.0</th>\n",
       "      <th>2.0</th>\n",
       "      <th>All</th>\n",
       "    </tr>\n",
       "    <tr>\n",
       "      <th>rel</th>\n",
       "      <th></th>\n",
       "      <th></th>\n",
       "      <th></th>\n",
       "    </tr>\n",
       "  </thead>\n",
       "  <tbody>\n",
       "    <tr>\n",
       "      <th>1.0</th>\n",
       "      <td>23571</td>\n",
       "      <td>6345</td>\n",
       "      <td>29916</td>\n",
       "    </tr>\n",
       "    <tr>\n",
       "      <th>2.0</th>\n",
       "      <td>8057</td>\n",
       "      <td>4274</td>\n",
       "      <td>12331</td>\n",
       "    </tr>\n",
       "    <tr>\n",
       "      <th>3.0</th>\n",
       "      <td>8204</td>\n",
       "      <td>1110</td>\n",
       "      <td>9314</td>\n",
       "    </tr>\n",
       "    <tr>\n",
       "      <th>4.0</th>\n",
       "      <td>3203</td>\n",
       "      <td>1109</td>\n",
       "      <td>4312</td>\n",
       "    </tr>\n",
       "    <tr>\n",
       "      <th>5.0</th>\n",
       "      <td>11334</td>\n",
       "      <td>1634</td>\n",
       "      <td>12968</td>\n",
       "    </tr>\n",
       "    <tr>\n",
       "      <th>6.0</th>\n",
       "      <td>738</td>\n",
       "      <td>124</td>\n",
       "      <td>862</td>\n",
       "    </tr>\n",
       "    <tr>\n",
       "      <th>7.0</th>\n",
       "      <td>391</td>\n",
       "      <td>284</td>\n",
       "      <td>675</td>\n",
       "    </tr>\n",
       "    <tr>\n",
       "      <th>8.0</th>\n",
       "      <td>1257</td>\n",
       "      <td>298</td>\n",
       "      <td>1555</td>\n",
       "    </tr>\n",
       "    <tr>\n",
       "      <th>9.0</th>\n",
       "      <td>46</td>\n",
       "      <td>14</td>\n",
       "      <td>60</td>\n",
       "    </tr>\n",
       "    <tr>\n",
       "      <th>All</th>\n",
       "      <td>56801</td>\n",
       "      <td>15192</td>\n",
       "      <td>71993</td>\n",
       "    </tr>\n",
       "  </tbody>\n",
       "</table>\n",
       "</div>"
      ],
      "text/plain": [
       "crd_u    1.0    2.0    All\n",
       "rel                       \n",
       "1.0    23571   6345  29916\n",
       "2.0     8057   4274  12331\n",
       "3.0     8204   1110   9314\n",
       "4.0     3203   1109   4312\n",
       "5.0    11334   1634  12968\n",
       "6.0      738    124    862\n",
       "7.0      391    284    675\n",
       "8.0     1257    298   1555\n",
       "9.0       46     14     60\n",
       "All    56801  15192  71993"
      ]
     },
     "execution_count": 10,
     "metadata": {},
     "output_type": "execute_result"
    }
   ],
   "source": [
    "pd.crosstab(df['rel'], df['crd_u'], margins=True)"
   ]
  },
  {
   "cell_type": "code",
   "execution_count": 11,
   "metadata": {},
   "outputs": [
    {
     "data": {
      "text/html": [
       "<div>\n",
       "<style scoped>\n",
       "    .dataframe tbody tr th:only-of-type {\n",
       "        vertical-align: middle;\n",
       "    }\n",
       "\n",
       "    .dataframe tbody tr th {\n",
       "        vertical-align: top;\n",
       "    }\n",
       "\n",
       "    .dataframe thead th {\n",
       "        text-align: right;\n",
       "    }\n",
       "</style>\n",
       "<table border=\"1\" class=\"dataframe\">\n",
       "  <thead>\n",
       "    <tr style=\"text-align: right;\">\n",
       "      <th>e_walt</th>\n",
       "      <th>1.0</th>\n",
       "      <th>2.0</th>\n",
       "      <th>All</th>\n",
       "    </tr>\n",
       "    <tr>\n",
       "      <th>rel</th>\n",
       "      <th></th>\n",
       "      <th></th>\n",
       "      <th></th>\n",
       "    </tr>\n",
       "  </thead>\n",
       "  <tbody>\n",
       "    <tr>\n",
       "      <th>1.0</th>\n",
       "      <td>1937</td>\n",
       "      <td>71339</td>\n",
       "      <td>73276</td>\n",
       "    </tr>\n",
       "    <tr>\n",
       "      <th>2.0</th>\n",
       "      <td>410</td>\n",
       "      <td>58601</td>\n",
       "      <td>59011</td>\n",
       "    </tr>\n",
       "    <tr>\n",
       "      <th>3.0</th>\n",
       "      <td>1464</td>\n",
       "      <td>16283</td>\n",
       "      <td>17747</td>\n",
       "    </tr>\n",
       "    <tr>\n",
       "      <th>4.0</th>\n",
       "      <td>376</td>\n",
       "      <td>17552</td>\n",
       "      <td>17928</td>\n",
       "    </tr>\n",
       "    <tr>\n",
       "      <th>5.0</th>\n",
       "      <td>3188</td>\n",
       "      <td>30934</td>\n",
       "      <td>34122</td>\n",
       "    </tr>\n",
       "    <tr>\n",
       "      <th>6.0</th>\n",
       "      <td>272</td>\n",
       "      <td>2146</td>\n",
       "      <td>2418</td>\n",
       "    </tr>\n",
       "    <tr>\n",
       "      <th>7.0</th>\n",
       "      <td>3</td>\n",
       "      <td>8045</td>\n",
       "      <td>8048</td>\n",
       "    </tr>\n",
       "    <tr>\n",
       "      <th>8.0</th>\n",
       "      <td>191</td>\n",
       "      <td>5053</td>\n",
       "      <td>5244</td>\n",
       "    </tr>\n",
       "    <tr>\n",
       "      <th>9.0</th>\n",
       "      <td>6</td>\n",
       "      <td>209</td>\n",
       "      <td>215</td>\n",
       "    </tr>\n",
       "    <tr>\n",
       "      <th>All</th>\n",
       "      <td>7847</td>\n",
       "      <td>210162</td>\n",
       "      <td>218009</td>\n",
       "    </tr>\n",
       "  </tbody>\n",
       "</table>\n",
       "</div>"
      ],
      "text/plain": [
       "e_walt   1.0     2.0     All\n",
       "rel                         \n",
       "1.0     1937   71339   73276\n",
       "2.0      410   58601   59011\n",
       "3.0     1464   16283   17747\n",
       "4.0      376   17552   17928\n",
       "5.0     3188   30934   34122\n",
       "6.0      272    2146    2418\n",
       "7.0        3    8045    8048\n",
       "8.0      191    5053    5244\n",
       "9.0        6     209     215\n",
       "All     7847  210162  218009"
      ]
     },
     "execution_count": 11,
     "metadata": {},
     "output_type": "execute_result"
    }
   ],
   "source": [
    "pd.crosstab(df['rel'], df['e_walt'], margins=True)"
   ]
  },
  {
   "cell_type": "code",
   "execution_count": 12,
   "metadata": {},
   "outputs": [
    {
     "data": {
      "text/html": [
       "<div>\n",
       "<style scoped>\n",
       "    .dataframe tbody tr th:only-of-type {\n",
       "        vertical-align: middle;\n",
       "    }\n",
       "\n",
       "    .dataframe tbody tr th {\n",
       "        vertical-align: top;\n",
       "    }\n",
       "\n",
       "    .dataframe thead th {\n",
       "        text-align: right;\n",
       "    }\n",
       "</style>\n",
       "<table border=\"1\" class=\"dataframe\">\n",
       "  <thead>\n",
       "    <tr style=\"text-align: right;\">\n",
       "      <th>crd_u</th>\n",
       "      <th>1.0</th>\n",
       "      <th>2.0</th>\n",
       "      <th>All</th>\n",
       "    </tr>\n",
       "    <tr>\n",
       "      <th>edu</th>\n",
       "      <th></th>\n",
       "      <th></th>\n",
       "      <th></th>\n",
       "    </tr>\n",
       "  </thead>\n",
       "  <tbody>\n",
       "    <tr>\n",
       "      <th>1.0</th>\n",
       "      <td>4894</td>\n",
       "      <td>3560</td>\n",
       "      <td>8454</td>\n",
       "    </tr>\n",
       "    <tr>\n",
       "      <th>2.0</th>\n",
       "      <td>2268</td>\n",
       "      <td>1273</td>\n",
       "      <td>3541</td>\n",
       "    </tr>\n",
       "    <tr>\n",
       "      <th>3.0</th>\n",
       "      <td>5467</td>\n",
       "      <td>2341</td>\n",
       "      <td>7808</td>\n",
       "    </tr>\n",
       "    <tr>\n",
       "      <th>4.0</th>\n",
       "      <td>9205</td>\n",
       "      <td>2631</td>\n",
       "      <td>11836</td>\n",
       "    </tr>\n",
       "    <tr>\n",
       "      <th>5.0</th>\n",
       "      <td>10586</td>\n",
       "      <td>2327</td>\n",
       "      <td>12913</td>\n",
       "    </tr>\n",
       "    <tr>\n",
       "      <th>6.0</th>\n",
       "      <td>10508</td>\n",
       "      <td>1714</td>\n",
       "      <td>12222</td>\n",
       "    </tr>\n",
       "    <tr>\n",
       "      <th>7.0</th>\n",
       "      <td>440</td>\n",
       "      <td>38</td>\n",
       "      <td>478</td>\n",
       "    </tr>\n",
       "    <tr>\n",
       "      <th>8.0</th>\n",
       "      <td>850</td>\n",
       "      <td>64</td>\n",
       "      <td>914</td>\n",
       "    </tr>\n",
       "    <tr>\n",
       "      <th>10.0</th>\n",
       "      <td>598</td>\n",
       "      <td>77</td>\n",
       "      <td>675</td>\n",
       "    </tr>\n",
       "    <tr>\n",
       "      <th>11.0</th>\n",
       "      <td>9230</td>\n",
       "      <td>949</td>\n",
       "      <td>10179</td>\n",
       "    </tr>\n",
       "    <tr>\n",
       "      <th>12.0</th>\n",
       "      <td>2755</td>\n",
       "      <td>218</td>\n",
       "      <td>2973</td>\n",
       "    </tr>\n",
       "    <tr>\n",
       "      <th>All</th>\n",
       "      <td>56801</td>\n",
       "      <td>15192</td>\n",
       "      <td>71993</td>\n",
       "    </tr>\n",
       "  </tbody>\n",
       "</table>\n",
       "</div>"
      ],
      "text/plain": [
       "crd_u    1.0    2.0    All\n",
       "edu                       \n",
       "1.0     4894   3560   8454\n",
       "2.0     2268   1273   3541\n",
       "3.0     5467   2341   7808\n",
       "4.0     9205   2631  11836\n",
       "5.0    10586   2327  12913\n",
       "6.0    10508   1714  12222\n",
       "7.0      440     38    478\n",
       "8.0      850     64    914\n",
       "10.0     598     77    675\n",
       "11.0    9230    949  10179\n",
       "12.0    2755    218   2973\n",
       "All    56801  15192  71993"
      ]
     },
     "execution_count": 12,
     "metadata": {},
     "output_type": "execute_result"
    }
   ],
   "source": [
    "pd.crosstab(df['edu'], df['crd_u'], margins=True)"
   ]
  },
  {
   "cell_type": "code",
   "execution_count": 13,
   "metadata": {},
   "outputs": [
    {
     "data": {
      "text/html": [
       "<div>\n",
       "<style scoped>\n",
       "    .dataframe tbody tr th:only-of-type {\n",
       "        vertical-align: middle;\n",
       "    }\n",
       "\n",
       "    .dataframe tbody tr th {\n",
       "        vertical-align: top;\n",
       "    }\n",
       "\n",
       "    .dataframe thead th {\n",
       "        text-align: right;\n",
       "    }\n",
       "</style>\n",
       "<table border=\"1\" class=\"dataframe\">\n",
       "  <thead>\n",
       "    <tr style=\"text-align: right;\">\n",
       "      <th>e_walt</th>\n",
       "      <th>1.0</th>\n",
       "      <th>2.0</th>\n",
       "      <th>All</th>\n",
       "    </tr>\n",
       "    <tr>\n",
       "      <th>edu</th>\n",
       "      <th></th>\n",
       "      <th></th>\n",
       "      <th></th>\n",
       "    </tr>\n",
       "  </thead>\n",
       "  <tbody>\n",
       "    <tr>\n",
       "      <th>1.0</th>\n",
       "      <td>88</td>\n",
       "      <td>65054</td>\n",
       "      <td>65142</td>\n",
       "    </tr>\n",
       "    <tr>\n",
       "      <th>2.0</th>\n",
       "      <td>41</td>\n",
       "      <td>14910</td>\n",
       "      <td>14951</td>\n",
       "    </tr>\n",
       "    <tr>\n",
       "      <th>3.0</th>\n",
       "      <td>155</td>\n",
       "      <td>26992</td>\n",
       "      <td>27147</td>\n",
       "    </tr>\n",
       "    <tr>\n",
       "      <th>4.0</th>\n",
       "      <td>430</td>\n",
       "      <td>33313</td>\n",
       "      <td>33743</td>\n",
       "    </tr>\n",
       "    <tr>\n",
       "      <th>5.0</th>\n",
       "      <td>930</td>\n",
       "      <td>28296</td>\n",
       "      <td>29226</td>\n",
       "    </tr>\n",
       "    <tr>\n",
       "      <th>6.0</th>\n",
       "      <td>1904</td>\n",
       "      <td>23460</td>\n",
       "      <td>25364</td>\n",
       "    </tr>\n",
       "    <tr>\n",
       "      <th>7.0</th>\n",
       "      <td>104</td>\n",
       "      <td>654</td>\n",
       "      <td>758</td>\n",
       "    </tr>\n",
       "    <tr>\n",
       "      <th>8.0</th>\n",
       "      <td>248</td>\n",
       "      <td>1111</td>\n",
       "      <td>1359</td>\n",
       "    </tr>\n",
       "    <tr>\n",
       "      <th>10.0</th>\n",
       "      <td>205</td>\n",
       "      <td>912</td>\n",
       "      <td>1117</td>\n",
       "    </tr>\n",
       "    <tr>\n",
       "      <th>11.0</th>\n",
       "      <td>2734</td>\n",
       "      <td>12515</td>\n",
       "      <td>15249</td>\n",
       "    </tr>\n",
       "    <tr>\n",
       "      <th>12.0</th>\n",
       "      <td>1008</td>\n",
       "      <td>2945</td>\n",
       "      <td>3953</td>\n",
       "    </tr>\n",
       "    <tr>\n",
       "      <th>All</th>\n",
       "      <td>7847</td>\n",
       "      <td>210162</td>\n",
       "      <td>218009</td>\n",
       "    </tr>\n",
       "  </tbody>\n",
       "</table>\n",
       "</div>"
      ],
      "text/plain": [
       "e_walt   1.0     2.0     All\n",
       "edu                         \n",
       "1.0       88   65054   65142\n",
       "2.0       41   14910   14951\n",
       "3.0      155   26992   27147\n",
       "4.0      430   33313   33743\n",
       "5.0      930   28296   29226\n",
       "6.0     1904   23460   25364\n",
       "7.0      104     654     758\n",
       "8.0      248    1111    1359\n",
       "10.0     205     912    1117\n",
       "11.0    2734   12515   15249\n",
       "12.0    1008    2945    3953\n",
       "All     7847  210162  218009"
      ]
     },
     "execution_count": 13,
     "metadata": {},
     "output_type": "execute_result"
    }
   ],
   "source": [
    "pd.crosstab(df['edu'], df['e_walt'], margins=True)"
   ]
  },
  {
   "cell_type": "code",
   "execution_count": 14,
   "metadata": {},
   "outputs": [
    {
     "data": {
      "text/html": [
       "<div>\n",
       "<style scoped>\n",
       "    .dataframe tbody tr th:only-of-type {\n",
       "        vertical-align: middle;\n",
       "    }\n",
       "\n",
       "    .dataframe tbody tr th {\n",
       "        vertical-align: top;\n",
       "    }\n",
       "\n",
       "    .dataframe thead th {\n",
       "        text-align: right;\n",
       "    }\n",
       "</style>\n",
       "<table border=\"1\" class=\"dataframe\">\n",
       "  <thead>\n",
       "    <tr style=\"text-align: right;\">\n",
       "      <th>crd_u</th>\n",
       "      <th>1.0</th>\n",
       "      <th>2.0</th>\n",
       "      <th>All</th>\n",
       "    </tr>\n",
       "    <tr>\n",
       "      <th>age</th>\n",
       "      <th></th>\n",
       "      <th></th>\n",
       "      <th></th>\n",
       "    </tr>\n",
       "  </thead>\n",
       "  <tbody>\n",
       "    <tr>\n",
       "      <th>18.0</th>\n",
       "      <td>1044</td>\n",
       "      <td>289</td>\n",
       "      <td>1333</td>\n",
       "    </tr>\n",
       "    <tr>\n",
       "      <th>19.0</th>\n",
       "      <td>1018</td>\n",
       "      <td>244</td>\n",
       "      <td>1262</td>\n",
       "    </tr>\n",
       "    <tr>\n",
       "      <th>20.0</th>\n",
       "      <td>1610</td>\n",
       "      <td>356</td>\n",
       "      <td>1966</td>\n",
       "    </tr>\n",
       "    <tr>\n",
       "      <th>21.0</th>\n",
       "      <td>1350</td>\n",
       "      <td>271</td>\n",
       "      <td>1621</td>\n",
       "    </tr>\n",
       "    <tr>\n",
       "      <th>22.0</th>\n",
       "      <td>2009</td>\n",
       "      <td>410</td>\n",
       "      <td>2419</td>\n",
       "    </tr>\n",
       "    <tr>\n",
       "      <th>...</th>\n",
       "      <td>...</td>\n",
       "      <td>...</td>\n",
       "      <td>...</td>\n",
       "    </tr>\n",
       "    <tr>\n",
       "      <th>95.0</th>\n",
       "      <td>1</td>\n",
       "      <td>1</td>\n",
       "      <td>2</td>\n",
       "    </tr>\n",
       "    <tr>\n",
       "      <th>96.0</th>\n",
       "      <td>3</td>\n",
       "      <td>1</td>\n",
       "      <td>4</td>\n",
       "    </tr>\n",
       "    <tr>\n",
       "      <th>97.0</th>\n",
       "      <td>0</td>\n",
       "      <td>1</td>\n",
       "      <td>1</td>\n",
       "    </tr>\n",
       "    <tr>\n",
       "      <th>107.0</th>\n",
       "      <td>0</td>\n",
       "      <td>1</td>\n",
       "      <td>1</td>\n",
       "    </tr>\n",
       "    <tr>\n",
       "      <th>All</th>\n",
       "      <td>56801</td>\n",
       "      <td>15192</td>\n",
       "      <td>71993</td>\n",
       "    </tr>\n",
       "  </tbody>\n",
       "</table>\n",
       "<p>82 rows × 3 columns</p>\n",
       "</div>"
      ],
      "text/plain": [
       "crd_u    1.0    2.0    All\n",
       "age                       \n",
       "18.0    1044    289   1333\n",
       "19.0    1018    244   1262\n",
       "20.0    1610    356   1966\n",
       "21.0    1350    271   1621\n",
       "22.0    2009    410   2419\n",
       "...      ...    ...    ...\n",
       "95.0       1      1      2\n",
       "96.0       3      1      4\n",
       "97.0       0      1      1\n",
       "107.0      0      1      1\n",
       "All    56801  15192  71993\n",
       "\n",
       "[82 rows x 3 columns]"
      ]
     },
     "execution_count": 14,
     "metadata": {},
     "output_type": "execute_result"
    }
   ],
   "source": [
    "pd.crosstab(df['age'], df['crd_u'], margins=True)"
   ]
  },
  {
   "cell_type": "code",
   "execution_count": 15,
   "metadata": {},
   "outputs": [
    {
     "data": {
      "text/html": [
       "<div>\n",
       "<style scoped>\n",
       "    .dataframe tbody tr th:only-of-type {\n",
       "        vertical-align: middle;\n",
       "    }\n",
       "\n",
       "    .dataframe tbody tr th {\n",
       "        vertical-align: top;\n",
       "    }\n",
       "\n",
       "    .dataframe thead th {\n",
       "        text-align: right;\n",
       "    }\n",
       "</style>\n",
       "<table border=\"1\" class=\"dataframe\">\n",
       "  <thead>\n",
       "    <tr style=\"text-align: right;\">\n",
       "      <th>e_walt</th>\n",
       "      <th>1.0</th>\n",
       "      <th>2.0</th>\n",
       "      <th>All</th>\n",
       "    </tr>\n",
       "    <tr>\n",
       "      <th>age</th>\n",
       "      <th></th>\n",
       "      <th></th>\n",
       "      <th></th>\n",
       "    </tr>\n",
       "  </thead>\n",
       "  <tbody>\n",
       "    <tr>\n",
       "      <th>18.0</th>\n",
       "      <td>215</td>\n",
       "      <td>7914</td>\n",
       "      <td>8129</td>\n",
       "    </tr>\n",
       "    <tr>\n",
       "      <th>19.0</th>\n",
       "      <td>255</td>\n",
       "      <td>5105</td>\n",
       "      <td>5360</td>\n",
       "    </tr>\n",
       "    <tr>\n",
       "      <th>20.0</th>\n",
       "      <td>360</td>\n",
       "      <td>6887</td>\n",
       "      <td>7247</td>\n",
       "    </tr>\n",
       "    <tr>\n",
       "      <th>21.0</th>\n",
       "      <td>369</td>\n",
       "      <td>4304</td>\n",
       "      <td>4673</td>\n",
       "    </tr>\n",
       "    <tr>\n",
       "      <th>22.0</th>\n",
       "      <td>509</td>\n",
       "      <td>6329</td>\n",
       "      <td>6838</td>\n",
       "    </tr>\n",
       "    <tr>\n",
       "      <th>...</th>\n",
       "      <td>...</td>\n",
       "      <td>...</td>\n",
       "      <td>...</td>\n",
       "    </tr>\n",
       "    <tr>\n",
       "      <th>106.0</th>\n",
       "      <td>0</td>\n",
       "      <td>1</td>\n",
       "      <td>1</td>\n",
       "    </tr>\n",
       "    <tr>\n",
       "      <th>107.0</th>\n",
       "      <td>0</td>\n",
       "      <td>1</td>\n",
       "      <td>1</td>\n",
       "    </tr>\n",
       "    <tr>\n",
       "      <th>108.0</th>\n",
       "      <td>0</td>\n",
       "      <td>1</td>\n",
       "      <td>1</td>\n",
       "    </tr>\n",
       "    <tr>\n",
       "      <th>110.0</th>\n",
       "      <td>0</td>\n",
       "      <td>6</td>\n",
       "      <td>6</td>\n",
       "    </tr>\n",
       "    <tr>\n",
       "      <th>All</th>\n",
       "      <td>7847</td>\n",
       "      <td>210162</td>\n",
       "      <td>218009</td>\n",
       "    </tr>\n",
       "  </tbody>\n",
       "</table>\n",
       "<p>93 rows × 3 columns</p>\n",
       "</div>"
      ],
      "text/plain": [
       "e_walt   1.0     2.0     All\n",
       "age                         \n",
       "18.0     215    7914    8129\n",
       "19.0     255    5105    5360\n",
       "20.0     360    6887    7247\n",
       "21.0     369    4304    4673\n",
       "22.0     509    6329    6838\n",
       "...      ...     ...     ...\n",
       "106.0      0       1       1\n",
       "107.0      0       1       1\n",
       "108.0      0       1       1\n",
       "110.0      0       6       6\n",
       "All     7847  210162  218009\n",
       "\n",
       "[93 rows x 3 columns]"
      ]
     },
     "execution_count": 15,
     "metadata": {},
     "output_type": "execute_result"
    }
   ],
   "source": [
    "pd.crosstab(df['age'], df['e_walt'], margins=True)"
   ]
  },
  {
   "cell_type": "code",
   "execution_count": 16,
   "metadata": {},
   "outputs": [
    {
     "data": {
      "text/plain": [
       "<AxesSubplot:>"
      ]
     },
     "execution_count": 16,
     "metadata": {},
     "output_type": "execute_result"
    },
    {
     "data": {
      "image/png": "[encoded data removed]",
      "text/plain": [
       "<Figure size 432x288 with 1 Axes>"
      ]
     },
     "metadata": {
      "needs_background": "light"
     },
     "output_type": "display_data"
    }
   ],
   "source": [
    "df.boxplot(column='age')"
   ]
  },
  {
   "cell_type": "code",
   "execution_count": 17,
   "metadata": {},
   "outputs": [
    {
     "data": {
      "text/plain": [
       "<AxesSubplot:>"
      ]
     },
     "execution_count": 17,
     "metadata": {},
     "output_type": "execute_result"
    },
    {
     "data": {
      "image/png": "[encoded data removed]",
      "text/plain": [
       "<Figure size 432x288 with 1 Axes>"
      ]
     },
     "metadata": {
      "needs_background": "light"
     },
     "output_type": "display_data"
    }
   ],
   "source": [
    "df['age'].hist(bins=20)"
   ]
  },
  {
   "cell_type": "code",
   "execution_count": 18,
   "metadata": {},
   "outputs": [
    {
     "data": {
      "text/plain": [
       "cen_roun         0\n",
       "fsu_no           0\n",
       "round            0\n",
       "sch_no           0\n",
       "sample          44\n",
       "             ...  \n",
       "crd_u       247350\n",
       "e_walt      101334\n",
       "u_ewal      311496\n",
       "nsc              0\n",
       "mlt              0\n",
       "Length: 36, dtype: int64"
      ]
     },
     "execution_count": 18,
     "metadata": {},
     "output_type": "execute_result"
    }
   ],
   "source": [
    "df.isnull().sum()"
   ]
  },
  {
   "cell_type": "code",
   "execution_count": 19,
   "metadata": {},
   "outputs": [
    {
     "name": "stdout",
     "output_type": "stream",
     "text": [
      "cen_roun , 0\n",
      "fsu_no , 0\n",
      "round , 0\n",
      "sch_no , 0\n",
      "sample , 44\n",
      "sector , 0\n",
      "state , 0\n",
      "s_regon , 0\n",
      "distric , 0\n",
      "stratum , 0\n",
      "sub_stno , 0\n",
      "sub_rnd , 0\n",
      "fod_subr , 18956\n",
      "sss , 0\n",
      "hhd_no , 0\n",
      "visit_no , 0\n",
      "level , 0\n",
      "filler , 0\n",
      "per_l2 , 0\n",
      "rel , 0\n",
      "gender , 0\n",
      "age , 0\n",
      "edu , 9\n",
      "h_cb , 0\n",
      "h_po , 0\n",
      "nbfc , 0\n",
      "shg , 0\n",
      "non_in , 0\n",
      "lnd_l2 , 0\n",
      "ag_l2 , 245884\n",
      "crd_l2 , 101334\n",
      "crd_u , 247350\n",
      "e_walt , 101334\n",
      "u_ewal , 311496\n",
      "nsc , 0\n",
      "mlt , 0\n"
     ]
    }
   ],
   "source": [
    "obj = df.isnull().sum()\n",
    "for key,value in obj.iteritems():\n",
    "    print(key,\",\",value)"
   ]
  },
  {
   "cell_type": "code",
   "execution_count": 20,
   "metadata": {},
   "outputs": [
    {
     "data": {
      "text/plain": [
       "cen_roun         0\n",
       "fsu_no           0\n",
       "round            0\n",
       "sch_no           0\n",
       "sample          44\n",
       "sector           0\n",
       "state            0\n",
       "s_regon          0\n",
       "distric          0\n",
       "stratum          0\n",
       "sub_stno         0\n",
       "sub_rnd          0\n",
       "fod_subr     18956\n",
       "sss              0\n",
       "hhd_no           0\n",
       "             ...  \n",
       "age              0\n",
       "edu              9\n",
       "h_cb             0\n",
       "h_po             0\n",
       "nbfc             0\n",
       "shg              0\n",
       "non_in           0\n",
       "lnd_l2           0\n",
       "ag_l2       245884\n",
       "crd_l2      101334\n",
       "crd_u       247350\n",
       "e_walt      101334\n",
       "u_ewal      311496\n",
       "nsc              0\n",
       "mlt              0\n",
       "Length: 36, dtype: int64"
      ]
     },
     "execution_count": 20,
     "metadata": {},
     "output_type": "execute_result"
    }
   ],
   "source": [
    "pd.options.display.min_rows = 115\n",
    "df.isnull().sum()"
   ]
  },
  {
   "cell_type": "code",
   "execution_count": 21,
   "metadata": {},
   "outputs": [],
   "source": [
    "df['edu'].fillna(df['edu'].mode()[0],inplace=True)"
   ]
  },
  {
   "cell_type": "code",
   "execution_count": 22,
   "metadata": {},
   "outputs": [],
   "source": [
    "df['crd_u'] = df['crd_u'].replace(np.nan, 0)"
   ]
  },
  {
   "cell_type": "code",
   "execution_count": 23,
   "metadata": {},
   "outputs": [],
   "source": [
    "# df['e_walt'] = df['e_walt'].replace(np.nan, 0)"
   ]
  },
  {
   "cell_type": "code",
   "execution_count": 24,
   "metadata": {},
   "outputs": [],
   "source": [
    "X = df.iloc[:,np.r_[20:23]].values\n",
    "y = df.iloc[:,31].values"
   ]
  },
  {
   "cell_type": "code",
   "execution_count": 25,
   "metadata": {},
   "outputs": [
    {
     "data": {
      "text/plain": [
       "array([[ 1., 48.,  2.],\n",
       "       [ 2., 45.,  4.],\n",
       "       [ 1., 23.,  3.],\n",
       "       ...,\n",
       "       [ 2., 38.,  3.],\n",
       "       [ 2., 15.,  3.],\n",
       "       [ 2., 10.,  3.]])"
      ]
     },
     "execution_count": 25,
     "metadata": {},
     "output_type": "execute_result"
    }
   ],
   "source": [
    "X"
   ]
  },
  {
   "cell_type": "code",
   "execution_count": 26,
   "metadata": {},
   "outputs": [
    {
     "data": {
      "text/plain": [
       "array([0., 0., 0., ..., 1., 0., 0.])"
      ]
     },
     "execution_count": 26,
     "metadata": {},
     "output_type": "execute_result"
    }
   ],
   "source": [
    "y"
   ]
  },
  {
   "cell_type": "code",
   "execution_count": 27,
   "metadata": {},
   "outputs": [],
   "source": [
    "from sklearn.model_selection import train_test_split\n",
    "X_train, X_test, y_train, y_test = train_test_split(X, y, test_size=0.2, random_state=0)"
   ]
  },
  {
   "cell_type": "code",
   "execution_count": 28,
   "metadata": {},
   "outputs": [
    {
     "data": {
      "text/plain": [
       "array([[ 1., 10.,  2.],\n",
       "       [ 2., 34.,  5.],\n",
       "       [ 1.,  5.,  1.],\n",
       "       ...,\n",
       "       [ 2.,  0.,  1.],\n",
       "       [ 1., 62.,  1.],\n",
       "       [ 2., 52.,  1.]])"
      ]
     },
     "execution_count": 28,
     "metadata": {},
     "output_type": "execute_result"
    }
   ],
   "source": [
    "X_train"
   ]
  },
  {
   "cell_type": "code",
   "execution_count": 29,
   "metadata": {},
   "outputs": [
    {
     "data": {
      "text/plain": [
       "array([0., 1., 0., ..., 0., 1., 0.])"
      ]
     },
     "execution_count": 29,
     "metadata": {},
     "output_type": "execute_result"
    }
   ],
   "source": [
    "y_train"
   ]
  },
  {
   "cell_type": "code",
   "execution_count": 30,
   "metadata": {},
   "outputs": [],
   "source": [
    "# from sklearn.preprocessing import LabelEncoder\n",
    "# labelencoder_y = LabelEncoder()\n",
    "# y_train=labelencoder_y.fit_transform(y_train)"
   ]
  },
  {
   "cell_type": "code",
   "execution_count": 31,
   "metadata": {},
   "outputs": [],
   "source": [
    "# y_train"
   ]
  },
  {
   "cell_type": "code",
   "execution_count": 32,
   "metadata": {},
   "outputs": [],
   "source": [
    "# labelencoder_y = LabelEncoder()\n",
    "# y_test=labelencoder_y.fit_transform(y_test)"
   ]
  },
  {
   "cell_type": "code",
   "execution_count": 33,
   "metadata": {},
   "outputs": [
    {
     "data": {
      "text/plain": [
       "array([2., 0., 0., ..., 0., 2., 0.])"
      ]
     },
     "execution_count": 33,
     "metadata": {},
     "output_type": "execute_result"
    }
   ],
   "source": [
    "y_test"
   ]
  },
  {
   "cell_type": "code",
   "execution_count": 34,
   "metadata": {},
   "outputs": [],
   "source": [
    "from sklearn.preprocessing import StandardScaler\n",
    "ss=StandardScaler()\n",
    "X_train=ss.fit_transform(X_train)\n",
    "X_test=ss.fit_transform(X_test)"
   ]
  },
  {
   "cell_type": "code",
   "execution_count": 35,
   "metadata": {},
   "outputs": [
    {
     "data": {
      "text/plain": [
       "DecisionTreeClassifier(criterion='entropy', random_state=0)"
      ]
     },
     "execution_count": 35,
     "metadata": {},
     "output_type": "execute_result"
    }
   ],
   "source": [
    "from sklearn.tree import DecisionTreeClassifier\n",
    "DTClassifier=DecisionTreeClassifier(criterion='entropy', random_state=0)\n",
    "DTClassifier.fit(X_train,y_train)"
   ]
  },
  {
   "cell_type": "code",
   "execution_count": 36,
   "metadata": {},
   "outputs": [
    {
     "data": {
      "text/plain": [
       "array([1., 0., 0., ..., 0., 0., 0.])"
      ]
     },
     "execution_count": 36,
     "metadata": {},
     "output_type": "execute_result"
    }
   ],
   "source": [
    "y_pred = DTClassifier.predict(X_test)\n",
    "y_pred"
   ]
  },
  {
   "cell_type": "code",
   "execution_count": 37,
   "metadata": {},
   "outputs": [
    {
     "name": "stdout",
     "output_type": "stream",
     "text": [
      "The accuracy of decision tree is:  0.8108472028683712\n"
     ]
    }
   ],
   "source": [
    "from sklearn import metrics\n",
    "print('The accuracy of decision tree is: ', metrics.accuracy_score(y_pred,y_test))"
   ]
  },
  {
   "cell_type": "code",
   "execution_count": 38,
   "metadata": {},
   "outputs": [
    {
     "data": {
      "text/plain": [
       "GaussianNB()"
      ]
     },
     "execution_count": 38,
     "metadata": {},
     "output_type": "execute_result"
    }
   ],
   "source": [
    "from sklearn.naive_bayes import GaussianNB\n",
    "NBClassifier=GaussianNB()\n",
    "NBClassifier.fit(X_train, y_train)"
   ]
  },
  {
   "cell_type": "code",
   "execution_count": 39,
   "metadata": {},
   "outputs": [],
   "source": [
    "y_pred = NBClassifier.predict(X_test)"
   ]
  },
  {
   "cell_type": "code",
   "execution_count": 40,
   "metadata": {},
   "outputs": [
    {
     "data": {
      "text/plain": [
       "array([0., 0., 0., ..., 0., 1., 0.])"
      ]
     },
     "execution_count": 40,
     "metadata": {},
     "output_type": "execute_result"
    }
   ],
   "source": [
    "y_pred"
   ]
  },
  {
   "cell_type": "code",
   "execution_count": 41,
   "metadata": {},
   "outputs": [
    {
     "name": "stdout",
     "output_type": "stream",
     "text": [
      "The accuracy of Naive baise is:  0.8019226854968764\n"
     ]
    }
   ],
   "source": [
    "print('The accuracy of Naive baise is: ', metrics.accuracy_score(y_pred,y_test))"
   ]
  },
  {
   "cell_type": "code",
   "execution_count": null,
   "metadata": {},
   "outputs": [],
   "source": []
  },
  {
   "cell_type": "code",
   "execution_count": null,
   "metadata": {},
   "outputs": [],
   "source": []
  }
 ],
 "metadata": {
  "kernelspec": {
   "display_name": "Python 3",
   "language": "python",
   "name": "python3"
  },
  "language_info": {
   "codemirror_mode": {
    "name": "ipython",
    "version": 3
   },
   "file_extension": ".py",
   "mimetype": "text/x-python",
   "name": "python",
   "nbconvert_exporter": "python",
   "pygments_lexer": "ipython3",
   "version": "3.8.5"
  }
 },
 "nbformat": 4,
 "nbformat_minor": 4
}
