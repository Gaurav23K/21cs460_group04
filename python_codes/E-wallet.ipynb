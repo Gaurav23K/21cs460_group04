{
 "cells": [
  {
   "cell_type": "code",
   "execution_count": 1,
   "metadata": {},
   "outputs": [],
   "source": [
    "# Importing different libraries\n",
    "#\n",
    "import pandas as pd\n",
    "import pyreadstat\n",
    "import numpy as np\n",
    "import matplotlib.pyplot as plt\n",
    "import statsmodels.api as sm\n",
    "\n",
    "# sklearn library\n",
    "from sklearn.preprocessing import LabelEncoder\n",
    "from sklearn.preprocessing import StandardScaler\n",
    "from sklearn.model_selection import train_test_split\n",
    "from sklearn import metrics\n",
    "from sklearn.metrics import confusion_matrix\n",
    "from sklearn.metrics import roc_curve, roc_auc_score\n",
    "from sklearn.tree import DecisionTreeClassifier\n",
    "from sklearn.naive_bayes import GaussianNB\n",
    "from sklearn.linear_model import LogisticRegression\n",
    "from sklearn.ensemble import RandomForestClassifier, BaggingClassifier, AdaBoostClassifier, VotingClassifier\n",
    "from sklearn.svm import SVC\n",
    "from sklearn import svm"
   ]
  },
  {
   "cell_type": "code",
   "execution_count": 2,
   "metadata": {},
   "outputs": [
    {
     "data": {
      "text/html": [
       "<div>\n",
       "<style scoped>\n",
       "    .dataframe tbody tr th:only-of-type {\n",
       "        vertical-align: middle;\n",
       "    }\n",
       "\n",
       "    .dataframe tbody tr th {\n",
       "        vertical-align: top;\n",
       "    }\n",
       "\n",
       "    .dataframe thead th {\n",
       "        text-align: right;\n",
       "    }\n",
       "</style>\n",
       "<table border=\"1\" class=\"dataframe\">\n",
       "  <thead>\n",
       "    <tr style=\"text-align: right;\">\n",
       "      <th></th>\n",
       "      <th>cen_roun</th>\n",
       "      <th>fsu_no</th>\n",
       "      <th>round</th>\n",
       "      <th>sch_no</th>\n",
       "      <th>sample</th>\n",
       "      <th>sector</th>\n",
       "      <th>state</th>\n",
       "      <th>s_regon</th>\n",
       "      <th>distric</th>\n",
       "      <th>stratum</th>\n",
       "      <th>sub_stno</th>\n",
       "      <th>sub_rnd</th>\n",
       "      <th>fod_subr</th>\n",
       "      <th>sss</th>\n",
       "      <th>hhd_no</th>\n",
       "      <th>visit_no</th>\n",
       "      <th>level</th>\n",
       "      <th>filler</th>\n",
       "      <th>per_l2</th>\n",
       "      <th>rel</th>\n",
       "      <th>gender</th>\n",
       "      <th>age</th>\n",
       "      <th>edu</th>\n",
       "      <th>h_cb</th>\n",
       "      <th>h_po</th>\n",
       "      <th>nbfc</th>\n",
       "      <th>shg</th>\n",
       "      <th>non_in</th>\n",
       "      <th>lnd_l2</th>\n",
       "      <th>ag_l2</th>\n",
       "      <th>crd_l2</th>\n",
       "      <th>crd_u</th>\n",
       "      <th>e_walt</th>\n",
       "      <th>u_ewal</th>\n",
       "      <th>nsc</th>\n",
       "      <th>mlt</th>\n",
       "    </tr>\n",
       "  </thead>\n",
       "  <tbody>\n",
       "    <tr>\n",
       "      <th>0</th>\n",
       "      <td>771.0</td>\n",
       "      <td>50030.0</td>\n",
       "      <td>77.0</td>\n",
       "      <td>182.0</td>\n",
       "      <td>1.0</td>\n",
       "      <td>1.0</td>\n",
       "      <td>24.0</td>\n",
       "      <td>241.0</td>\n",
       "      <td>25.0</td>\n",
       "      <td>25.0</td>\n",
       "      <td>31.0</td>\n",
       "      <td>2.0</td>\n",
       "      <td>2423.0</td>\n",
       "      <td>1.0</td>\n",
       "      <td>1.0</td>\n",
       "      <td>1.0</td>\n",
       "      <td>2.0</td>\n",
       "      <td>0.0</td>\n",
       "      <td>1.0</td>\n",
       "      <td>1.0</td>\n",
       "      <td>1.0</td>\n",
       "      <td>48.0</td>\n",
       "      <td>2.0</td>\n",
       "      <td>1.0</td>\n",
       "      <td>2.0</td>\n",
       "      <td>2.0</td>\n",
       "      <td>2.0</td>\n",
       "      <td>2.0</td>\n",
       "      <td>1.0</td>\n",
       "      <td>1.0</td>\n",
       "      <td>2.0</td>\n",
       "      <td>NaN</td>\n",
       "      <td>2.0</td>\n",
       "      <td>NaN</td>\n",
       "      <td>2.0</td>\n",
       "      <td>351750.0</td>\n",
       "    </tr>\n",
       "    <tr>\n",
       "      <th>1</th>\n",
       "      <td>771.0</td>\n",
       "      <td>50030.0</td>\n",
       "      <td>77.0</td>\n",
       "      <td>182.0</td>\n",
       "      <td>1.0</td>\n",
       "      <td>1.0</td>\n",
       "      <td>24.0</td>\n",
       "      <td>241.0</td>\n",
       "      <td>25.0</td>\n",
       "      <td>25.0</td>\n",
       "      <td>31.0</td>\n",
       "      <td>2.0</td>\n",
       "      <td>2423.0</td>\n",
       "      <td>1.0</td>\n",
       "      <td>1.0</td>\n",
       "      <td>1.0</td>\n",
       "      <td>2.0</td>\n",
       "      <td>0.0</td>\n",
       "      <td>2.0</td>\n",
       "      <td>2.0</td>\n",
       "      <td>2.0</td>\n",
       "      <td>45.0</td>\n",
       "      <td>4.0</td>\n",
       "      <td>1.0</td>\n",
       "      <td>2.0</td>\n",
       "      <td>2.0</td>\n",
       "      <td>2.0</td>\n",
       "      <td>2.0</td>\n",
       "      <td>2.0</td>\n",
       "      <td>NaN</td>\n",
       "      <td>2.0</td>\n",
       "      <td>NaN</td>\n",
       "      <td>2.0</td>\n",
       "      <td>NaN</td>\n",
       "      <td>2.0</td>\n",
       "      <td>351750.0</td>\n",
       "    </tr>\n",
       "    <tr>\n",
       "      <th>2</th>\n",
       "      <td>771.0</td>\n",
       "      <td>50030.0</td>\n",
       "      <td>77.0</td>\n",
       "      <td>182.0</td>\n",
       "      <td>1.0</td>\n",
       "      <td>1.0</td>\n",
       "      <td>24.0</td>\n",
       "      <td>241.0</td>\n",
       "      <td>25.0</td>\n",
       "      <td>25.0</td>\n",
       "      <td>31.0</td>\n",
       "      <td>2.0</td>\n",
       "      <td>2423.0</td>\n",
       "      <td>1.0</td>\n",
       "      <td>1.0</td>\n",
       "      <td>1.0</td>\n",
       "      <td>2.0</td>\n",
       "      <td>0.0</td>\n",
       "      <td>3.0</td>\n",
       "      <td>3.0</td>\n",
       "      <td>1.0</td>\n",
       "      <td>23.0</td>\n",
       "      <td>3.0</td>\n",
       "      <td>4.0</td>\n",
       "      <td>2.0</td>\n",
       "      <td>2.0</td>\n",
       "      <td>2.0</td>\n",
       "      <td>2.0</td>\n",
       "      <td>2.0</td>\n",
       "      <td>NaN</td>\n",
       "      <td>2.0</td>\n",
       "      <td>NaN</td>\n",
       "      <td>2.0</td>\n",
       "      <td>NaN</td>\n",
       "      <td>2.0</td>\n",
       "      <td>351750.0</td>\n",
       "    </tr>\n",
       "    <tr>\n",
       "      <th>3</th>\n",
       "      <td>771.0</td>\n",
       "      <td>50030.0</td>\n",
       "      <td>77.0</td>\n",
       "      <td>182.0</td>\n",
       "      <td>1.0</td>\n",
       "      <td>1.0</td>\n",
       "      <td>24.0</td>\n",
       "      <td>241.0</td>\n",
       "      <td>25.0</td>\n",
       "      <td>25.0</td>\n",
       "      <td>31.0</td>\n",
       "      <td>2.0</td>\n",
       "      <td>2423.0</td>\n",
       "      <td>1.0</td>\n",
       "      <td>1.0</td>\n",
       "      <td>1.0</td>\n",
       "      <td>2.0</td>\n",
       "      <td>0.0</td>\n",
       "      <td>4.0</td>\n",
       "      <td>4.0</td>\n",
       "      <td>2.0</td>\n",
       "      <td>19.0</td>\n",
       "      <td>4.0</td>\n",
       "      <td>4.0</td>\n",
       "      <td>2.0</td>\n",
       "      <td>2.0</td>\n",
       "      <td>2.0</td>\n",
       "      <td>2.0</td>\n",
       "      <td>2.0</td>\n",
       "      <td>NaN</td>\n",
       "      <td>2.0</td>\n",
       "      <td>NaN</td>\n",
       "      <td>2.0</td>\n",
       "      <td>NaN</td>\n",
       "      <td>2.0</td>\n",
       "      <td>351750.0</td>\n",
       "    </tr>\n",
       "    <tr>\n",
       "      <th>4</th>\n",
       "      <td>771.0</td>\n",
       "      <td>50030.0</td>\n",
       "      <td>77.0</td>\n",
       "      <td>182.0</td>\n",
       "      <td>1.0</td>\n",
       "      <td>1.0</td>\n",
       "      <td>24.0</td>\n",
       "      <td>241.0</td>\n",
       "      <td>25.0</td>\n",
       "      <td>25.0</td>\n",
       "      <td>31.0</td>\n",
       "      <td>2.0</td>\n",
       "      <td>2423.0</td>\n",
       "      <td>1.0</td>\n",
       "      <td>1.0</td>\n",
       "      <td>1.0</td>\n",
       "      <td>2.0</td>\n",
       "      <td>0.0</td>\n",
       "      <td>5.0</td>\n",
       "      <td>5.0</td>\n",
       "      <td>2.0</td>\n",
       "      <td>21.0</td>\n",
       "      <td>11.0</td>\n",
       "      <td>1.0</td>\n",
       "      <td>2.0</td>\n",
       "      <td>2.0</td>\n",
       "      <td>2.0</td>\n",
       "      <td>2.0</td>\n",
       "      <td>2.0</td>\n",
       "      <td>NaN</td>\n",
       "      <td>1.0</td>\n",
       "      <td>1.0</td>\n",
       "      <td>2.0</td>\n",
       "      <td>NaN</td>\n",
       "      <td>2.0</td>\n",
       "      <td>351750.0</td>\n",
       "    </tr>\n",
       "    <tr>\n",
       "      <th>...</th>\n",
       "      <td>...</td>\n",
       "      <td>...</td>\n",
       "      <td>...</td>\n",
       "      <td>...</td>\n",
       "      <td>...</td>\n",
       "      <td>...</td>\n",
       "      <td>...</td>\n",
       "      <td>...</td>\n",
       "      <td>...</td>\n",
       "      <td>...</td>\n",
       "      <td>...</td>\n",
       "      <td>...</td>\n",
       "      <td>...</td>\n",
       "      <td>...</td>\n",
       "      <td>...</td>\n",
       "      <td>...</td>\n",
       "      <td>...</td>\n",
       "      <td>...</td>\n",
       "      <td>...</td>\n",
       "      <td>...</td>\n",
       "      <td>...</td>\n",
       "      <td>...</td>\n",
       "      <td>...</td>\n",
       "      <td>...</td>\n",
       "      <td>...</td>\n",
       "      <td>...</td>\n",
       "      <td>...</td>\n",
       "      <td>...</td>\n",
       "      <td>...</td>\n",
       "      <td>...</td>\n",
       "      <td>...</td>\n",
       "      <td>...</td>\n",
       "      <td>...</td>\n",
       "      <td>...</td>\n",
       "      <td>...</td>\n",
       "      <td>...</td>\n",
       "    </tr>\n",
       "    <tr>\n",
       "      <th>319338</th>\n",
       "      <td>771.0</td>\n",
       "      <td>73999.0</td>\n",
       "      <td>77.0</td>\n",
       "      <td>182.0</td>\n",
       "      <td>1.0</td>\n",
       "      <td>2.0</td>\n",
       "      <td>3.0</td>\n",
       "      <td>32.0</td>\n",
       "      <td>7.0</td>\n",
       "      <td>7.0</td>\n",
       "      <td>1.0</td>\n",
       "      <td>1.0</td>\n",
       "      <td>321.0</td>\n",
       "      <td>6.0</td>\n",
       "      <td>2.0</td>\n",
       "      <td>1.0</td>\n",
       "      <td>2.0</td>\n",
       "      <td>0.0</td>\n",
       "      <td>5.0</td>\n",
       "      <td>6.0</td>\n",
       "      <td>1.0</td>\n",
       "      <td>16.0</td>\n",
       "      <td>5.0</td>\n",
       "      <td>1.0</td>\n",
       "      <td>2.0</td>\n",
       "      <td>2.0</td>\n",
       "      <td>2.0</td>\n",
       "      <td>2.0</td>\n",
       "      <td>2.0</td>\n",
       "      <td>NaN</td>\n",
       "      <td>NaN</td>\n",
       "      <td>NaN</td>\n",
       "      <td>NaN</td>\n",
       "      <td>NaN</td>\n",
       "      <td>2.0</td>\n",
       "      <td>1825800.0</td>\n",
       "    </tr>\n",
       "    <tr>\n",
       "      <th>319339</th>\n",
       "      <td>771.0</td>\n",
       "      <td>73999.0</td>\n",
       "      <td>77.0</td>\n",
       "      <td>182.0</td>\n",
       "      <td>1.0</td>\n",
       "      <td>2.0</td>\n",
       "      <td>3.0</td>\n",
       "      <td>32.0</td>\n",
       "      <td>7.0</td>\n",
       "      <td>7.0</td>\n",
       "      <td>1.0</td>\n",
       "      <td>1.0</td>\n",
       "      <td>321.0</td>\n",
       "      <td>6.0</td>\n",
       "      <td>2.0</td>\n",
       "      <td>1.0</td>\n",
       "      <td>2.0</td>\n",
       "      <td>0.0</td>\n",
       "      <td>6.0</td>\n",
       "      <td>3.0</td>\n",
       "      <td>1.0</td>\n",
       "      <td>40.0</td>\n",
       "      <td>5.0</td>\n",
       "      <td>1.0</td>\n",
       "      <td>2.0</td>\n",
       "      <td>2.0</td>\n",
       "      <td>2.0</td>\n",
       "      <td>2.0</td>\n",
       "      <td>2.0</td>\n",
       "      <td>NaN</td>\n",
       "      <td>1.0</td>\n",
       "      <td>1.0</td>\n",
       "      <td>2.0</td>\n",
       "      <td>NaN</td>\n",
       "      <td>2.0</td>\n",
       "      <td>1825800.0</td>\n",
       "    </tr>\n",
       "    <tr>\n",
       "      <th>319340</th>\n",
       "      <td>771.0</td>\n",
       "      <td>73999.0</td>\n",
       "      <td>77.0</td>\n",
       "      <td>182.0</td>\n",
       "      <td>1.0</td>\n",
       "      <td>2.0</td>\n",
       "      <td>3.0</td>\n",
       "      <td>32.0</td>\n",
       "      <td>7.0</td>\n",
       "      <td>7.0</td>\n",
       "      <td>1.0</td>\n",
       "      <td>1.0</td>\n",
       "      <td>321.0</td>\n",
       "      <td>6.0</td>\n",
       "      <td>2.0</td>\n",
       "      <td>1.0</td>\n",
       "      <td>2.0</td>\n",
       "      <td>0.0</td>\n",
       "      <td>7.0</td>\n",
       "      <td>4.0</td>\n",
       "      <td>2.0</td>\n",
       "      <td>38.0</td>\n",
       "      <td>3.0</td>\n",
       "      <td>1.0</td>\n",
       "      <td>2.0</td>\n",
       "      <td>2.0</td>\n",
       "      <td>2.0</td>\n",
       "      <td>2.0</td>\n",
       "      <td>2.0</td>\n",
       "      <td>NaN</td>\n",
       "      <td>1.0</td>\n",
       "      <td>1.0</td>\n",
       "      <td>2.0</td>\n",
       "      <td>NaN</td>\n",
       "      <td>2.0</td>\n",
       "      <td>1825800.0</td>\n",
       "    </tr>\n",
       "    <tr>\n",
       "      <th>319341</th>\n",
       "      <td>771.0</td>\n",
       "      <td>73999.0</td>\n",
       "      <td>77.0</td>\n",
       "      <td>182.0</td>\n",
       "      <td>1.0</td>\n",
       "      <td>2.0</td>\n",
       "      <td>3.0</td>\n",
       "      <td>32.0</td>\n",
       "      <td>7.0</td>\n",
       "      <td>7.0</td>\n",
       "      <td>1.0</td>\n",
       "      <td>1.0</td>\n",
       "      <td>321.0</td>\n",
       "      <td>6.0</td>\n",
       "      <td>2.0</td>\n",
       "      <td>1.0</td>\n",
       "      <td>2.0</td>\n",
       "      <td>0.0</td>\n",
       "      <td>8.0</td>\n",
       "      <td>6.0</td>\n",
       "      <td>2.0</td>\n",
       "      <td>15.0</td>\n",
       "      <td>3.0</td>\n",
       "      <td>2.0</td>\n",
       "      <td>2.0</td>\n",
       "      <td>2.0</td>\n",
       "      <td>2.0</td>\n",
       "      <td>2.0</td>\n",
       "      <td>2.0</td>\n",
       "      <td>NaN</td>\n",
       "      <td>NaN</td>\n",
       "      <td>NaN</td>\n",
       "      <td>NaN</td>\n",
       "      <td>NaN</td>\n",
       "      <td>2.0</td>\n",
       "      <td>1825800.0</td>\n",
       "    </tr>\n",
       "    <tr>\n",
       "      <th>319342</th>\n",
       "      <td>771.0</td>\n",
       "      <td>73999.0</td>\n",
       "      <td>77.0</td>\n",
       "      <td>182.0</td>\n",
       "      <td>1.0</td>\n",
       "      <td>2.0</td>\n",
       "      <td>3.0</td>\n",
       "      <td>32.0</td>\n",
       "      <td>7.0</td>\n",
       "      <td>7.0</td>\n",
       "      <td>1.0</td>\n",
       "      <td>1.0</td>\n",
       "      <td>321.0</td>\n",
       "      <td>6.0</td>\n",
       "      <td>2.0</td>\n",
       "      <td>1.0</td>\n",
       "      <td>2.0</td>\n",
       "      <td>0.0</td>\n",
       "      <td>9.0</td>\n",
       "      <td>6.0</td>\n",
       "      <td>2.0</td>\n",
       "      <td>10.0</td>\n",
       "      <td>3.0</td>\n",
       "      <td>2.0</td>\n",
       "      <td>2.0</td>\n",
       "      <td>2.0</td>\n",
       "      <td>2.0</td>\n",
       "      <td>2.0</td>\n",
       "      <td>2.0</td>\n",
       "      <td>NaN</td>\n",
       "      <td>NaN</td>\n",
       "      <td>NaN</td>\n",
       "      <td>NaN</td>\n",
       "      <td>NaN</td>\n",
       "      <td>2.0</td>\n",
       "      <td>1825800.0</td>\n",
       "    </tr>\n",
       "  </tbody>\n",
       "</table>\n",
       "<p>319343 rows × 36 columns</p>\n",
       "</div>"
      ],
      "text/plain": [
       "        cen_roun   fsu_no  round  sch_no  sample  sector  state  s_regon  \\\n",
       "0          771.0  50030.0   77.0   182.0     1.0     1.0   24.0    241.0   \n",
       "1          771.0  50030.0   77.0   182.0     1.0     1.0   24.0    241.0   \n",
       "2          771.0  50030.0   77.0   182.0     1.0     1.0   24.0    241.0   \n",
       "3          771.0  50030.0   77.0   182.0     1.0     1.0   24.0    241.0   \n",
       "4          771.0  50030.0   77.0   182.0     1.0     1.0   24.0    241.0   \n",
       "...          ...      ...    ...     ...     ...     ...    ...      ...   \n",
       "319338     771.0  73999.0   77.0   182.0     1.0     2.0    3.0     32.0   \n",
       "319339     771.0  73999.0   77.0   182.0     1.0     2.0    3.0     32.0   \n",
       "319340     771.0  73999.0   77.0   182.0     1.0     2.0    3.0     32.0   \n",
       "319341     771.0  73999.0   77.0   182.0     1.0     2.0    3.0     32.0   \n",
       "319342     771.0  73999.0   77.0   182.0     1.0     2.0    3.0     32.0   \n",
       "\n",
       "        distric  stratum  sub_stno  sub_rnd  fod_subr  sss  hhd_no  visit_no  \\\n",
       "0          25.0     25.0      31.0      2.0    2423.0  1.0     1.0       1.0   \n",
       "1          25.0     25.0      31.0      2.0    2423.0  1.0     1.0       1.0   \n",
       "2          25.0     25.0      31.0      2.0    2423.0  1.0     1.0       1.0   \n",
       "3          25.0     25.0      31.0      2.0    2423.0  1.0     1.0       1.0   \n",
       "4          25.0     25.0      31.0      2.0    2423.0  1.0     1.0       1.0   \n",
       "...         ...      ...       ...      ...       ...  ...     ...       ...   \n",
       "319338      7.0      7.0       1.0      1.0     321.0  6.0     2.0       1.0   \n",
       "319339      7.0      7.0       1.0      1.0     321.0  6.0     2.0       1.0   \n",
       "319340      7.0      7.0       1.0      1.0     321.0  6.0     2.0       1.0   \n",
       "319341      7.0      7.0       1.0      1.0     321.0  6.0     2.0       1.0   \n",
       "319342      7.0      7.0       1.0      1.0     321.0  6.0     2.0       1.0   \n",
       "\n",
       "        level  filler  per_l2  rel  gender   age   edu  h_cb  h_po  nbfc  shg  \\\n",
       "0         2.0     0.0     1.0  1.0     1.0  48.0   2.0   1.0   2.0   2.0  2.0   \n",
       "1         2.0     0.0     2.0  2.0     2.0  45.0   4.0   1.0   2.0   2.0  2.0   \n",
       "2         2.0     0.0     3.0  3.0     1.0  23.0   3.0   4.0   2.0   2.0  2.0   \n",
       "3         2.0     0.0     4.0  4.0     2.0  19.0   4.0   4.0   2.0   2.0  2.0   \n",
       "4         2.0     0.0     5.0  5.0     2.0  21.0  11.0   1.0   2.0   2.0  2.0   \n",
       "...       ...     ...     ...  ...     ...   ...   ...   ...   ...   ...  ...   \n",
       "319338    2.0     0.0     5.0  6.0     1.0  16.0   5.0   1.0   2.0   2.0  2.0   \n",
       "319339    2.0     0.0     6.0  3.0     1.0  40.0   5.0   1.0   2.0   2.0  2.0   \n",
       "319340    2.0     0.0     7.0  4.0     2.0  38.0   3.0   1.0   2.0   2.0  2.0   \n",
       "319341    2.0     0.0     8.0  6.0     2.0  15.0   3.0   2.0   2.0   2.0  2.0   \n",
       "319342    2.0     0.0     9.0  6.0     2.0  10.0   3.0   2.0   2.0   2.0  2.0   \n",
       "\n",
       "        non_in  lnd_l2  ag_l2  crd_l2  crd_u  e_walt  u_ewal  nsc        mlt  \n",
       "0          2.0     1.0    1.0     2.0    NaN     2.0     NaN  2.0   351750.0  \n",
       "1          2.0     2.0    NaN     2.0    NaN     2.0     NaN  2.0   351750.0  \n",
       "2          2.0     2.0    NaN     2.0    NaN     2.0     NaN  2.0   351750.0  \n",
       "3          2.0     2.0    NaN     2.0    NaN     2.0     NaN  2.0   351750.0  \n",
       "4          2.0     2.0    NaN     1.0    1.0     2.0     NaN  2.0   351750.0  \n",
       "...        ...     ...    ...     ...    ...     ...     ...  ...        ...  \n",
       "319338     2.0     2.0    NaN     NaN    NaN     NaN     NaN  2.0  1825800.0  \n",
       "319339     2.0     2.0    NaN     1.0    1.0     2.0     NaN  2.0  1825800.0  \n",
       "319340     2.0     2.0    NaN     1.0    1.0     2.0     NaN  2.0  1825800.0  \n",
       "319341     2.0     2.0    NaN     NaN    NaN     NaN     NaN  2.0  1825800.0  \n",
       "319342     2.0     2.0    NaN     NaN    NaN     NaN     NaN  2.0  1825800.0  \n",
       "\n",
       "[319343 rows x 36 columns]"
      ]
     },
     "execution_count": 2,
     "metadata": {},
     "output_type": "execute_result"
    }
   ],
   "source": [
    "# Importing the data\n",
    "#\n",
    "df = pd.read_spss('LEVEL02_1.sav')\n",
    "df, meta = pyreadstat.read_sav('LEVEL02_1.sav')\n",
    "type(df)\n",
    "pd.set_option('display.max_columns', None)\n",
    "pd.set_option('display.max_rows', 10)\n",
    "# pd.set_option(\"max_rows\", 30)\n",
    "df"
   ]
  },
  {
   "cell_type": "code",
   "execution_count": 3,
   "metadata": {},
   "outputs": [
    {
     "name": "stdout",
     "output_type": "stream",
     "text": [
      "<class 'pandas.core.frame.DataFrame'>\n",
      "RangeIndex: 319343 entries, 0 to 319342\n",
      "Data columns (total 36 columns):\n",
      " #   Column    Non-Null Count   Dtype  \n",
      "---  ------    --------------   -----  \n",
      " 0   cen_roun  319343 non-null  float64\n",
      " 1   fsu_no    319343 non-null  float64\n",
      " 2   round     319343 non-null  float64\n",
      " 3   sch_no    319343 non-null  float64\n",
      " 4   sample    319299 non-null  float64\n",
      " 5   sector    319343 non-null  float64\n",
      " 6   state     319343 non-null  float64\n",
      " 7   s_regon   319343 non-null  float64\n",
      " 8   distric   319343 non-null  float64\n",
      " 9   stratum   319343 non-null  float64\n",
      " 10  sub_stno  319343 non-null  float64\n",
      " 11  sub_rnd   319343 non-null  float64\n",
      " 12  fod_subr  300387 non-null  float64\n",
      " 13  sss       319343 non-null  float64\n",
      " 14  hhd_no    319343 non-null  float64\n",
      " 15  visit_no  319343 non-null  float64\n",
      " 16  level     319343 non-null  float64\n",
      " 17  filler    319343 non-null  float64\n",
      " 18  per_l2    319343 non-null  float64\n",
      " 19  rel       319343 non-null  float64\n",
      " 20  gender    319343 non-null  float64\n",
      " 21  age       319343 non-null  float64\n",
      " 22  edu       319334 non-null  float64\n",
      " 23  h_cb      319343 non-null  float64\n",
      " 24  h_po      319343 non-null  float64\n",
      " 25  nbfc      319343 non-null  float64\n",
      " 26  shg       319343 non-null  float64\n",
      " 27  non_in    319343 non-null  float64\n",
      " 28  lnd_l2    319343 non-null  float64\n",
      " 29  ag_l2     73459 non-null   float64\n",
      " 30  crd_l2    218009 non-null  float64\n",
      " 31  crd_u     71993 non-null   float64\n",
      " 32  e_walt    218009 non-null  float64\n",
      " 33  u_ewal    7847 non-null    float64\n",
      " 34  nsc       319343 non-null  float64\n",
      " 35  mlt       319343 non-null  float64\n",
      "dtypes: float64(36)\n",
      "memory usage: 87.7 MB\n"
     ]
    }
   ],
   "source": [
    "df.info()"
   ]
  },
  {
   "cell_type": "code",
   "execution_count": 4,
   "metadata": {},
   "outputs": [
    {
     "data": {
      "text/html": [
       "<div>\n",
       "<style scoped>\n",
       "    .dataframe tbody tr th:only-of-type {\n",
       "        vertical-align: middle;\n",
       "    }\n",
       "\n",
       "    .dataframe tbody tr th {\n",
       "        vertical-align: top;\n",
       "    }\n",
       "\n",
       "    .dataframe thead th {\n",
       "        text-align: right;\n",
       "    }\n",
       "</style>\n",
       "<table border=\"1\" class=\"dataframe\">\n",
       "  <thead>\n",
       "    <tr style=\"text-align: right;\">\n",
       "      <th></th>\n",
       "      <th>cen_roun</th>\n",
       "      <th>fsu_no</th>\n",
       "      <th>round</th>\n",
       "      <th>sch_no</th>\n",
       "      <th>sample</th>\n",
       "      <th>sector</th>\n",
       "      <th>state</th>\n",
       "      <th>s_regon</th>\n",
       "      <th>distric</th>\n",
       "      <th>stratum</th>\n",
       "      <th>sub_stno</th>\n",
       "      <th>sub_rnd</th>\n",
       "      <th>fod_subr</th>\n",
       "      <th>sss</th>\n",
       "      <th>hhd_no</th>\n",
       "      <th>visit_no</th>\n",
       "      <th>level</th>\n",
       "      <th>filler</th>\n",
       "      <th>per_l2</th>\n",
       "      <th>rel</th>\n",
       "      <th>gender</th>\n",
       "      <th>age</th>\n",
       "      <th>edu</th>\n",
       "      <th>h_cb</th>\n",
       "      <th>h_po</th>\n",
       "      <th>nbfc</th>\n",
       "      <th>shg</th>\n",
       "      <th>non_in</th>\n",
       "      <th>lnd_l2</th>\n",
       "      <th>ag_l2</th>\n",
       "      <th>crd_l2</th>\n",
       "      <th>crd_u</th>\n",
       "      <th>e_walt</th>\n",
       "      <th>u_ewal</th>\n",
       "      <th>nsc</th>\n",
       "      <th>mlt</th>\n",
       "    </tr>\n",
       "  </thead>\n",
       "  <tbody>\n",
       "    <tr>\n",
       "      <th>count</th>\n",
       "      <td>319343.0</td>\n",
       "      <td>319343.000000</td>\n",
       "      <td>319343.0</td>\n",
       "      <td>319343.0</td>\n",
       "      <td>319299.0</td>\n",
       "      <td>319343.000000</td>\n",
       "      <td>319343.000000</td>\n",
       "      <td>319343.000000</td>\n",
       "      <td>319343.000000</td>\n",
       "      <td>319343.000000</td>\n",
       "      <td>319343.000000</td>\n",
       "      <td>319343.000000</td>\n",
       "      <td>300387.000000</td>\n",
       "      <td>319343.000000</td>\n",
       "      <td>319343.000000</td>\n",
       "      <td>319343.0</td>\n",
       "      <td>319343.0</td>\n",
       "      <td>319343.0</td>\n",
       "      <td>319343.000000</td>\n",
       "      <td>319343.000000</td>\n",
       "      <td>319343.000000</td>\n",
       "      <td>319343.000000</td>\n",
       "      <td>319334.000000</td>\n",
       "      <td>319343.000000</td>\n",
       "      <td>319343.000000</td>\n",
       "      <td>319343.000000</td>\n",
       "      <td>319343.000000</td>\n",
       "      <td>319343.000000</td>\n",
       "      <td>319343.000000</td>\n",
       "      <td>73459.000000</td>\n",
       "      <td>218009.000000</td>\n",
       "      <td>71993.000000</td>\n",
       "      <td>218009.000000</td>\n",
       "      <td>7847.000000</td>\n",
       "      <td>319343.000000</td>\n",
       "      <td>3.193430e+05</td>\n",
       "    </tr>\n",
       "    <tr>\n",
       "      <th>mean</th>\n",
       "      <td>771.0</td>\n",
       "      <td>55785.664774</td>\n",
       "      <td>77.0</td>\n",
       "      <td>182.0</td>\n",
       "      <td>1.0</td>\n",
       "      <td>1.052260</td>\n",
       "      <td>16.659820</td>\n",
       "      <td>168.920953</td>\n",
       "      <td>16.866360</td>\n",
       "      <td>17.286526</td>\n",
       "      <td>26.517058</td>\n",
       "      <td>1.494446</td>\n",
       "      <td>1698.814060</td>\n",
       "      <td>3.781946</td>\n",
       "      <td>2.020301</td>\n",
       "      <td>1.0</td>\n",
       "      <td>2.0</td>\n",
       "      <td>0.0</td>\n",
       "      <td>3.226559</td>\n",
       "      <td>3.568223</td>\n",
       "      <td>1.488500</td>\n",
       "      <td>30.218567</td>\n",
       "      <td>3.421079</td>\n",
       "      <td>2.041996</td>\n",
       "      <td>1.973445</td>\n",
       "      <td>1.998184</td>\n",
       "      <td>1.955960</td>\n",
       "      <td>1.996828</td>\n",
       "      <td>1.769968</td>\n",
       "      <td>1.328741</td>\n",
       "      <td>1.669771</td>\n",
       "      <td>1.211021</td>\n",
       "      <td>1.964006</td>\n",
       "      <td>1.082707</td>\n",
       "      <td>2.023370</td>\n",
       "      <td>2.515901e+05</td>\n",
       "    </tr>\n",
       "    <tr>\n",
       "      <th>std</th>\n",
       "      <td>0.0</td>\n",
       "      <td>4993.241961</td>\n",
       "      <td>0.0</td>\n",
       "      <td>0.0</td>\n",
       "      <td>0.0</td>\n",
       "      <td>0.222552</td>\n",
       "      <td>9.244858</td>\n",
       "      <td>92.637204</td>\n",
       "      <td>14.698767</td>\n",
       "      <td>15.386911</td>\n",
       "      <td>10.020306</td>\n",
       "      <td>0.499970</td>\n",
       "      <td>950.078386</td>\n",
       "      <td>1.688528</td>\n",
       "      <td>1.372820</td>\n",
       "      <td>0.0</td>\n",
       "      <td>0.0</td>\n",
       "      <td>0.0</td>\n",
       "      <td>2.147415</td>\n",
       "      <td>1.996091</td>\n",
       "      <td>0.500413</td>\n",
       "      <td>19.824129</td>\n",
       "      <td>2.626920</td>\n",
       "      <td>1.382520</td>\n",
       "      <td>0.160778</td>\n",
       "      <td>0.042579</td>\n",
       "      <td>0.205185</td>\n",
       "      <td>0.056232</td>\n",
       "      <td>0.420853</td>\n",
       "      <td>0.469759</td>\n",
       "      <td>0.470297</td>\n",
       "      <td>0.408036</td>\n",
       "      <td>0.186275</td>\n",
       "      <td>0.275456</td>\n",
       "      <td>0.825487</td>\n",
       "      <td>4.544496e+05</td>\n",
       "    </tr>\n",
       "    <tr>\n",
       "      <th>min</th>\n",
       "      <td>771.0</td>\n",
       "      <td>50030.000000</td>\n",
       "      <td>77.0</td>\n",
       "      <td>182.0</td>\n",
       "      <td>1.0</td>\n",
       "      <td>1.000000</td>\n",
       "      <td>1.000000</td>\n",
       "      <td>11.000000</td>\n",
       "      <td>1.000000</td>\n",
       "      <td>1.000000</td>\n",
       "      <td>1.000000</td>\n",
       "      <td>1.000000</td>\n",
       "      <td>110.000000</td>\n",
       "      <td>1.000000</td>\n",
       "      <td>1.000000</td>\n",
       "      <td>1.0</td>\n",
       "      <td>2.0</td>\n",
       "      <td>0.0</td>\n",
       "      <td>1.000000</td>\n",
       "      <td>1.000000</td>\n",
       "      <td>1.000000</td>\n",
       "      <td>0.000000</td>\n",
       "      <td>1.000000</td>\n",
       "      <td>1.000000</td>\n",
       "      <td>1.000000</td>\n",
       "      <td>1.000000</td>\n",
       "      <td>1.000000</td>\n",
       "      <td>1.000000</td>\n",
       "      <td>1.000000</td>\n",
       "      <td>1.000000</td>\n",
       "      <td>1.000000</td>\n",
       "      <td>1.000000</td>\n",
       "      <td>1.000000</td>\n",
       "      <td>1.000000</td>\n",
       "      <td>1.000000</td>\n",
       "      <td>0.000000e+00</td>\n",
       "    </tr>\n",
       "    <tr>\n",
       "      <th>25%</th>\n",
       "      <td>771.0</td>\n",
       "      <td>52489.000000</td>\n",
       "      <td>77.0</td>\n",
       "      <td>182.0</td>\n",
       "      <td>1.0</td>\n",
       "      <td>1.000000</td>\n",
       "      <td>9.000000</td>\n",
       "      <td>93.000000</td>\n",
       "      <td>6.000000</td>\n",
       "      <td>6.000000</td>\n",
       "      <td>21.000000</td>\n",
       "      <td>1.000000</td>\n",
       "      <td>922.000000</td>\n",
       "      <td>3.000000</td>\n",
       "      <td>1.000000</td>\n",
       "      <td>1.0</td>\n",
       "      <td>2.0</td>\n",
       "      <td>0.0</td>\n",
       "      <td>2.000000</td>\n",
       "      <td>2.000000</td>\n",
       "      <td>1.000000</td>\n",
       "      <td>14.000000</td>\n",
       "      <td>1.000000</td>\n",
       "      <td>1.000000</td>\n",
       "      <td>2.000000</td>\n",
       "      <td>2.000000</td>\n",
       "      <td>2.000000</td>\n",
       "      <td>2.000000</td>\n",
       "      <td>2.000000</td>\n",
       "      <td>1.000000</td>\n",
       "      <td>1.000000</td>\n",
       "      <td>1.000000</td>\n",
       "      <td>2.000000</td>\n",
       "      <td>1.000000</td>\n",
       "      <td>2.000000</td>\n",
       "      <td>1.960000e+04</td>\n",
       "    </tr>\n",
       "    <tr>\n",
       "      <th>50%</th>\n",
       "      <td>771.0</td>\n",
       "      <td>55456.000000</td>\n",
       "      <td>77.0</td>\n",
       "      <td>182.0</td>\n",
       "      <td>1.0</td>\n",
       "      <td>1.000000</td>\n",
       "      <td>17.000000</td>\n",
       "      <td>171.000000</td>\n",
       "      <td>13.000000</td>\n",
       "      <td>13.000000</td>\n",
       "      <td>31.000000</td>\n",
       "      <td>1.000000</td>\n",
       "      <td>1821.000000</td>\n",
       "      <td>4.000000</td>\n",
       "      <td>2.000000</td>\n",
       "      <td>1.0</td>\n",
       "      <td>2.0</td>\n",
       "      <td>0.0</td>\n",
       "      <td>3.000000</td>\n",
       "      <td>4.000000</td>\n",
       "      <td>1.000000</td>\n",
       "      <td>27.000000</td>\n",
       "      <td>3.000000</td>\n",
       "      <td>1.000000</td>\n",
       "      <td>2.000000</td>\n",
       "      <td>2.000000</td>\n",
       "      <td>2.000000</td>\n",
       "      <td>2.000000</td>\n",
       "      <td>2.000000</td>\n",
       "      <td>1.000000</td>\n",
       "      <td>2.000000</td>\n",
       "      <td>1.000000</td>\n",
       "      <td>2.000000</td>\n",
       "      <td>1.000000</td>\n",
       "      <td>2.000000</td>\n",
       "      <td>7.052500e+04</td>\n",
       "    </tr>\n",
       "    <tr>\n",
       "      <th>75%</th>\n",
       "      <td>771.0</td>\n",
       "      <td>57395.000000</td>\n",
       "      <td>77.0</td>\n",
       "      <td>182.0</td>\n",
       "      <td>1.0</td>\n",
       "      <td>1.000000</td>\n",
       "      <td>24.000000</td>\n",
       "      <td>241.000000</td>\n",
       "      <td>23.000000</td>\n",
       "      <td>23.000000</td>\n",
       "      <td>33.000000</td>\n",
       "      <td>2.000000</td>\n",
       "      <td>2420.000000</td>\n",
       "      <td>5.000000</td>\n",
       "      <td>2.000000</td>\n",
       "      <td>1.0</td>\n",
       "      <td>2.0</td>\n",
       "      <td>0.0</td>\n",
       "      <td>4.000000</td>\n",
       "      <td>5.000000</td>\n",
       "      <td>2.000000</td>\n",
       "      <td>45.000000</td>\n",
       "      <td>5.000000</td>\n",
       "      <td>4.000000</td>\n",
       "      <td>2.000000</td>\n",
       "      <td>2.000000</td>\n",
       "      <td>2.000000</td>\n",
       "      <td>2.000000</td>\n",
       "      <td>2.000000</td>\n",
       "      <td>2.000000</td>\n",
       "      <td>2.000000</td>\n",
       "      <td>1.000000</td>\n",
       "      <td>2.000000</td>\n",
       "      <td>1.000000</td>\n",
       "      <td>2.000000</td>\n",
       "      <td>2.772000e+05</td>\n",
       "    </tr>\n",
       "    <tr>\n",
       "      <th>max</th>\n",
       "      <td>771.0</td>\n",
       "      <td>73999.000000</td>\n",
       "      <td>77.0</td>\n",
       "      <td>182.0</td>\n",
       "      <td>1.0</td>\n",
       "      <td>2.000000</td>\n",
       "      <td>36.000000</td>\n",
       "      <td>362.000000</td>\n",
       "      <td>71.000000</td>\n",
       "      <td>99.000000</td>\n",
       "      <td>51.000000</td>\n",
       "      <td>2.000000</td>\n",
       "      <td>3613.000000</td>\n",
       "      <td>6.000000</td>\n",
       "      <td>12.000000</td>\n",
       "      <td>1.0</td>\n",
       "      <td>2.0</td>\n",
       "      <td>0.0</td>\n",
       "      <td>30.000000</td>\n",
       "      <td>9.000000</td>\n",
       "      <td>3.000000</td>\n",
       "      <td>110.000000</td>\n",
       "      <td>12.000000</td>\n",
       "      <td>4.000000</td>\n",
       "      <td>2.000000</td>\n",
       "      <td>2.000000</td>\n",
       "      <td>2.000000</td>\n",
       "      <td>2.000000</td>\n",
       "      <td>2.000000</td>\n",
       "      <td>2.000000</td>\n",
       "      <td>2.000000</td>\n",
       "      <td>2.000000</td>\n",
       "      <td>2.000000</td>\n",
       "      <td>2.000000</td>\n",
       "      <td>16.000000</td>\n",
       "      <td>1.287405e+07</td>\n",
       "    </tr>\n",
       "  </tbody>\n",
       "</table>\n",
       "</div>"
      ],
      "text/plain": [
       "       cen_roun         fsu_no     round    sch_no    sample         sector  \\\n",
       "count  319343.0  319343.000000  319343.0  319343.0  319299.0  319343.000000   \n",
       "mean      771.0   55785.664774      77.0     182.0       1.0       1.052260   \n",
       "std         0.0    4993.241961       0.0       0.0       0.0       0.222552   \n",
       "min       771.0   50030.000000      77.0     182.0       1.0       1.000000   \n",
       "25%       771.0   52489.000000      77.0     182.0       1.0       1.000000   \n",
       "50%       771.0   55456.000000      77.0     182.0       1.0       1.000000   \n",
       "75%       771.0   57395.000000      77.0     182.0       1.0       1.000000   \n",
       "max       771.0   73999.000000      77.0     182.0       1.0       2.000000   \n",
       "\n",
       "               state        s_regon        distric        stratum  \\\n",
       "count  319343.000000  319343.000000  319343.000000  319343.000000   \n",
       "mean       16.659820     168.920953      16.866360      17.286526   \n",
       "std         9.244858      92.637204      14.698767      15.386911   \n",
       "min         1.000000      11.000000       1.000000       1.000000   \n",
       "25%         9.000000      93.000000       6.000000       6.000000   \n",
       "50%        17.000000     171.000000      13.000000      13.000000   \n",
       "75%        24.000000     241.000000      23.000000      23.000000   \n",
       "max        36.000000     362.000000      71.000000      99.000000   \n",
       "\n",
       "            sub_stno        sub_rnd       fod_subr            sss  \\\n",
       "count  319343.000000  319343.000000  300387.000000  319343.000000   \n",
       "mean       26.517058       1.494446    1698.814060       3.781946   \n",
       "std        10.020306       0.499970     950.078386       1.688528   \n",
       "min         1.000000       1.000000     110.000000       1.000000   \n",
       "25%        21.000000       1.000000     922.000000       3.000000   \n",
       "50%        31.000000       1.000000    1821.000000       4.000000   \n",
       "75%        33.000000       2.000000    2420.000000       5.000000   \n",
       "max        51.000000       2.000000    3613.000000       6.000000   \n",
       "\n",
       "              hhd_no  visit_no     level    filler         per_l2  \\\n",
       "count  319343.000000  319343.0  319343.0  319343.0  319343.000000   \n",
       "mean        2.020301       1.0       2.0       0.0       3.226559   \n",
       "std         1.372820       0.0       0.0       0.0       2.147415   \n",
       "min         1.000000       1.0       2.0       0.0       1.000000   \n",
       "25%         1.000000       1.0       2.0       0.0       2.000000   \n",
       "50%         2.000000       1.0       2.0       0.0       3.000000   \n",
       "75%         2.000000       1.0       2.0       0.0       4.000000   \n",
       "max        12.000000       1.0       2.0       0.0      30.000000   \n",
       "\n",
       "                 rel         gender            age            edu  \\\n",
       "count  319343.000000  319343.000000  319343.000000  319334.000000   \n",
       "mean        3.568223       1.488500      30.218567       3.421079   \n",
       "std         1.996091       0.500413      19.824129       2.626920   \n",
       "min         1.000000       1.000000       0.000000       1.000000   \n",
       "25%         2.000000       1.000000      14.000000       1.000000   \n",
       "50%         4.000000       1.000000      27.000000       3.000000   \n",
       "75%         5.000000       2.000000      45.000000       5.000000   \n",
       "max         9.000000       3.000000     110.000000      12.000000   \n",
       "\n",
       "                h_cb           h_po           nbfc            shg  \\\n",
       "count  319343.000000  319343.000000  319343.000000  319343.000000   \n",
       "mean        2.041996       1.973445       1.998184       1.955960   \n",
       "std         1.382520       0.160778       0.042579       0.205185   \n",
       "min         1.000000       1.000000       1.000000       1.000000   \n",
       "25%         1.000000       2.000000       2.000000       2.000000   \n",
       "50%         1.000000       2.000000       2.000000       2.000000   \n",
       "75%         4.000000       2.000000       2.000000       2.000000   \n",
       "max         4.000000       2.000000       2.000000       2.000000   \n",
       "\n",
       "              non_in         lnd_l2         ag_l2         crd_l2  \\\n",
       "count  319343.000000  319343.000000  73459.000000  218009.000000   \n",
       "mean        1.996828       1.769968      1.328741       1.669771   \n",
       "std         0.056232       0.420853      0.469759       0.470297   \n",
       "min         1.000000       1.000000      1.000000       1.000000   \n",
       "25%         2.000000       2.000000      1.000000       1.000000   \n",
       "50%         2.000000       2.000000      1.000000       2.000000   \n",
       "75%         2.000000       2.000000      2.000000       2.000000   \n",
       "max         2.000000       2.000000      2.000000       2.000000   \n",
       "\n",
       "              crd_u         e_walt       u_ewal            nsc           mlt  \n",
       "count  71993.000000  218009.000000  7847.000000  319343.000000  3.193430e+05  \n",
       "mean       1.211021       1.964006     1.082707       2.023370  2.515901e+05  \n",
       "std        0.408036       0.186275     0.275456       0.825487  4.544496e+05  \n",
       "min        1.000000       1.000000     1.000000       1.000000  0.000000e+00  \n",
       "25%        1.000000       2.000000     1.000000       2.000000  1.960000e+04  \n",
       "50%        1.000000       2.000000     1.000000       2.000000  7.052500e+04  \n",
       "75%        1.000000       2.000000     1.000000       2.000000  2.772000e+05  \n",
       "max        2.000000       2.000000     2.000000      16.000000  1.287405e+07  "
      ]
     },
     "execution_count": 4,
     "metadata": {},
     "output_type": "execute_result"
    }
   ],
   "source": [
    "# Description of the data\n",
    "#\n",
    "df.describe()"
   ]
  },
  {
   "cell_type": "code",
   "execution_count": 5,
   "metadata": {},
   "outputs": [
    {
     "data": {
      "text/plain": [
       "cen_roun         0\n",
       "fsu_no           0\n",
       "round            0\n",
       "sch_no           0\n",
       "sample          44\n",
       "             ...  \n",
       "crd_u       247350\n",
       "e_walt      101334\n",
       "u_ewal      311496\n",
       "nsc              0\n",
       "mlt              0\n",
       "Length: 36, dtype: int64"
      ]
     },
     "execution_count": 5,
     "metadata": {},
     "output_type": "execute_result"
    }
   ],
   "source": [
    "# Checking for missing observations in different features\n",
    "#\n",
    "df.isnull().sum()"
   ]
  },
  {
   "cell_type": "code",
   "execution_count": 6,
   "metadata": {},
   "outputs": [
    {
     "data": {
      "text/html": [
       "<div>\n",
       "<style scoped>\n",
       "    .dataframe tbody tr th:only-of-type {\n",
       "        vertical-align: middle;\n",
       "    }\n",
       "\n",
       "    .dataframe tbody tr th {\n",
       "        vertical-align: top;\n",
       "    }\n",
       "\n",
       "    .dataframe thead th {\n",
       "        text-align: right;\n",
       "    }\n",
       "</style>\n",
       "<table border=\"1\" class=\"dataframe\">\n",
       "  <thead>\n",
       "    <tr style=\"text-align: right;\">\n",
       "      <th></th>\n",
       "      <th>gender</th>\n",
       "      <th>age</th>\n",
       "      <th>edu</th>\n",
       "      <th>crd_u</th>\n",
       "      <th>e_walt</th>\n",
       "    </tr>\n",
       "  </thead>\n",
       "  <tbody>\n",
       "    <tr>\n",
       "      <th>0</th>\n",
       "      <td>1.0</td>\n",
       "      <td>48.0</td>\n",
       "      <td>2.0</td>\n",
       "      <td>NaN</td>\n",
       "      <td>2.0</td>\n",
       "    </tr>\n",
       "    <tr>\n",
       "      <th>1</th>\n",
       "      <td>2.0</td>\n",
       "      <td>45.0</td>\n",
       "      <td>4.0</td>\n",
       "      <td>NaN</td>\n",
       "      <td>2.0</td>\n",
       "    </tr>\n",
       "    <tr>\n",
       "      <th>2</th>\n",
       "      <td>1.0</td>\n",
       "      <td>23.0</td>\n",
       "      <td>3.0</td>\n",
       "      <td>NaN</td>\n",
       "      <td>2.0</td>\n",
       "    </tr>\n",
       "    <tr>\n",
       "      <th>3</th>\n",
       "      <td>2.0</td>\n",
       "      <td>19.0</td>\n",
       "      <td>4.0</td>\n",
       "      <td>NaN</td>\n",
       "      <td>2.0</td>\n",
       "    </tr>\n",
       "    <tr>\n",
       "      <th>4</th>\n",
       "      <td>2.0</td>\n",
       "      <td>21.0</td>\n",
       "      <td>11.0</td>\n",
       "      <td>1.0</td>\n",
       "      <td>2.0</td>\n",
       "    </tr>\n",
       "    <tr>\n",
       "      <th>...</th>\n",
       "      <td>...</td>\n",
       "      <td>...</td>\n",
       "      <td>...</td>\n",
       "      <td>...</td>\n",
       "      <td>...</td>\n",
       "    </tr>\n",
       "    <tr>\n",
       "      <th>319338</th>\n",
       "      <td>1.0</td>\n",
       "      <td>16.0</td>\n",
       "      <td>5.0</td>\n",
       "      <td>NaN</td>\n",
       "      <td>NaN</td>\n",
       "    </tr>\n",
       "    <tr>\n",
       "      <th>319339</th>\n",
       "      <td>1.0</td>\n",
       "      <td>40.0</td>\n",
       "      <td>5.0</td>\n",
       "      <td>1.0</td>\n",
       "      <td>2.0</td>\n",
       "    </tr>\n",
       "    <tr>\n",
       "      <th>319340</th>\n",
       "      <td>2.0</td>\n",
       "      <td>38.0</td>\n",
       "      <td>3.0</td>\n",
       "      <td>1.0</td>\n",
       "      <td>2.0</td>\n",
       "    </tr>\n",
       "    <tr>\n",
       "      <th>319341</th>\n",
       "      <td>2.0</td>\n",
       "      <td>15.0</td>\n",
       "      <td>3.0</td>\n",
       "      <td>NaN</td>\n",
       "      <td>NaN</td>\n",
       "    </tr>\n",
       "    <tr>\n",
       "      <th>319342</th>\n",
       "      <td>2.0</td>\n",
       "      <td>10.0</td>\n",
       "      <td>3.0</td>\n",
       "      <td>NaN</td>\n",
       "      <td>NaN</td>\n",
       "    </tr>\n",
       "  </tbody>\n",
       "</table>\n",
       "<p>319343 rows × 5 columns</p>\n",
       "</div>"
      ],
      "text/plain": [
       "        gender   age   edu  crd_u  e_walt\n",
       "0          1.0  48.0   2.0    NaN     2.0\n",
       "1          2.0  45.0   4.0    NaN     2.0\n",
       "2          1.0  23.0   3.0    NaN     2.0\n",
       "3          2.0  19.0   4.0    NaN     2.0\n",
       "4          2.0  21.0  11.0    1.0     2.0\n",
       "...        ...   ...   ...    ...     ...\n",
       "319338     1.0  16.0   5.0    NaN     NaN\n",
       "319339     1.0  40.0   5.0    1.0     2.0\n",
       "319340     2.0  38.0   3.0    1.0     2.0\n",
       "319341     2.0  15.0   3.0    NaN     NaN\n",
       "319342     2.0  10.0   3.0    NaN     NaN\n",
       "\n",
       "[319343 rows x 5 columns]"
      ]
     },
     "execution_count": 6,
     "metadata": {},
     "output_type": "execute_result"
    }
   ],
   "source": [
    "# Removing the irrelevant features\n",
    "#\n",
    "df.drop(['cen_roun','round','fsu_no','sch_no','sample','sector','state','s_regon','distric','stratum','sub_stno','sub_rnd','fod_subr','sss','hhd_no','visit_no','level','filler','per_l2','rel'], axis=1, inplace=True)\n",
    "df.drop(['h_cb','h_po','nbfc','shg','non_in','lnd_l2','ag_l2','crd_l2','u_ewal','nsc','mlt'], axis=1, inplace=True)\n",
    "pd.set_option('display.max_rows', 20)\n",
    "df"
   ]
  },
  {
   "cell_type": "code",
   "execution_count": 7,
   "metadata": {},
   "outputs": [],
   "source": [
    "# Taking the count of the observations where age is less than 18 years\n",
    "#\n",
    "i = 0\n",
    "gg = []\n",
    "while i <319343 :\n",
    "    if df.loc[i,'age'] < 18:\n",
    "        gg.append(i)\n",
    "    i +=1"
   ]
  },
  {
   "cell_type": "code",
   "execution_count": 8,
   "metadata": {
    "scrolled": true
   },
   "outputs": [
    {
     "name": "stdout",
     "output_type": "stream",
     "text": [
      "        gender   age   edu  crd_u  e_walt\n",
      "0          1.0  48.0   2.0    NaN     2.0\n",
      "1          2.0  45.0   4.0    NaN     2.0\n",
      "2          1.0  23.0   3.0    NaN     2.0\n",
      "3          2.0  19.0   4.0    NaN     2.0\n",
      "4          2.0  21.0  11.0    1.0     2.0\n",
      "...        ...   ...   ...    ...     ...\n",
      "319338     1.0  16.0   5.0    0.0     0.0\n",
      "319339     1.0  40.0   5.0    1.0     2.0\n",
      "319340     2.0  38.0   3.0    1.0     2.0\n",
      "319341     2.0  15.0   3.0    0.0     0.0\n",
      "319342     2.0  10.0   3.0    0.0     0.0\n",
      "\n",
      "[319343 rows x 5 columns]\n"
     ]
    }
   ],
   "source": [
    "# Replacing the missing features of credit card and e-wallet users below 18 to 0(Do not have a credit card or e-wallet)\n",
    "#\n",
    "for j in gg:\n",
    "        df.loc[j,'crd_u'] = 0\n",
    "        df.loc[j,'e_walt'] = 0\n",
    "print(df)"
   ]
  },
  {
   "cell_type": "code",
   "execution_count": 9,
   "metadata": {},
   "outputs": [
    {
     "data": {
      "text/plain": [
       "gender         0\n",
       "age            0\n",
       "edu            9\n",
       "crd_u     146016\n",
       "e_walt         0\n",
       "dtype: int64"
      ]
     },
     "execution_count": 9,
     "metadata": {},
     "output_type": "execute_result"
    }
   ],
   "source": [
    "# Counting the missing observation after replacement\n",
    "#\n",
    "df.isnull().sum()"
   ]
  },
  {
   "cell_type": "code",
   "execution_count": 10,
   "metadata": {},
   "outputs": [],
   "source": [
    "# Dropping the whole row wherever single observation is missing \n",
    "#\n",
    "df = df.dropna()"
   ]
  },
  {
   "cell_type": "code",
   "execution_count": 11,
   "metadata": {},
   "outputs": [
    {
     "data": {
      "text/plain": [
       "gender    0\n",
       "age       0\n",
       "edu       0\n",
       "crd_u     0\n",
       "e_walt    0\n",
       "dtype: int64"
      ]
     },
     "execution_count": 11,
     "metadata": {},
     "output_type": "execute_result"
    }
   ],
   "source": [
    "# Final counting of the missing observations\n",
    "#\n",
    "df.isnull().sum()"
   ]
  },
  {
   "cell_type": "code",
   "execution_count": 12,
   "metadata": {},
   "outputs": [
    {
     "data": {
      "text/html": [
       "<div>\n",
       "<style scoped>\n",
       "    .dataframe tbody tr th:only-of-type {\n",
       "        vertical-align: middle;\n",
       "    }\n",
       "\n",
       "    .dataframe tbody tr th {\n",
       "        vertical-align: top;\n",
       "    }\n",
       "\n",
       "    .dataframe thead th {\n",
       "        text-align: right;\n",
       "    }\n",
       "</style>\n",
       "<table border=\"1\" class=\"dataframe\">\n",
       "  <thead>\n",
       "    <tr style=\"text-align: right;\">\n",
       "      <th></th>\n",
       "      <th>gender</th>\n",
       "      <th>age</th>\n",
       "      <th>edu</th>\n",
       "      <th>crd_u</th>\n",
       "      <th>e_walt</th>\n",
       "    </tr>\n",
       "  </thead>\n",
       "  <tbody>\n",
       "    <tr>\n",
       "      <th>4</th>\n",
       "      <td>2.0</td>\n",
       "      <td>21.0</td>\n",
       "      <td>11.0</td>\n",
       "      <td>1.0</td>\n",
       "      <td>2.0</td>\n",
       "    </tr>\n",
       "    <tr>\n",
       "      <th>7</th>\n",
       "      <td>1.0</td>\n",
       "      <td>4.0</td>\n",
       "      <td>1.0</td>\n",
       "      <td>0.0</td>\n",
       "      <td>0.0</td>\n",
       "    </tr>\n",
       "    <tr>\n",
       "      <th>14</th>\n",
       "      <td>1.0</td>\n",
       "      <td>48.0</td>\n",
       "      <td>6.0</td>\n",
       "      <td>1.0</td>\n",
       "      <td>2.0</td>\n",
       "    </tr>\n",
       "    <tr>\n",
       "      <th>15</th>\n",
       "      <td>2.0</td>\n",
       "      <td>42.0</td>\n",
       "      <td>6.0</td>\n",
       "      <td>1.0</td>\n",
       "      <td>2.0</td>\n",
       "    </tr>\n",
       "    <tr>\n",
       "      <th>17</th>\n",
       "      <td>2.0</td>\n",
       "      <td>21.0</td>\n",
       "      <td>11.0</td>\n",
       "      <td>1.0</td>\n",
       "      <td>2.0</td>\n",
       "    </tr>\n",
       "    <tr>\n",
       "      <th>...</th>\n",
       "      <td>...</td>\n",
       "      <td>...</td>\n",
       "      <td>...</td>\n",
       "      <td>...</td>\n",
       "      <td>...</td>\n",
       "    </tr>\n",
       "    <tr>\n",
       "      <th>319338</th>\n",
       "      <td>1.0</td>\n",
       "      <td>16.0</td>\n",
       "      <td>5.0</td>\n",
       "      <td>0.0</td>\n",
       "      <td>0.0</td>\n",
       "    </tr>\n",
       "    <tr>\n",
       "      <th>319339</th>\n",
       "      <td>1.0</td>\n",
       "      <td>40.0</td>\n",
       "      <td>5.0</td>\n",
       "      <td>1.0</td>\n",
       "      <td>2.0</td>\n",
       "    </tr>\n",
       "    <tr>\n",
       "      <th>319340</th>\n",
       "      <td>2.0</td>\n",
       "      <td>38.0</td>\n",
       "      <td>3.0</td>\n",
       "      <td>1.0</td>\n",
       "      <td>2.0</td>\n",
       "    </tr>\n",
       "    <tr>\n",
       "      <th>319341</th>\n",
       "      <td>2.0</td>\n",
       "      <td>15.0</td>\n",
       "      <td>3.0</td>\n",
       "      <td>0.0</td>\n",
       "      <td>0.0</td>\n",
       "    </tr>\n",
       "    <tr>\n",
       "      <th>319342</th>\n",
       "      <td>2.0</td>\n",
       "      <td>10.0</td>\n",
       "      <td>3.0</td>\n",
       "      <td>0.0</td>\n",
       "      <td>0.0</td>\n",
       "    </tr>\n",
       "  </tbody>\n",
       "</table>\n",
       "<p>173318 rows × 5 columns</p>\n",
       "</div>"
      ],
      "text/plain": [
       "        gender   age   edu  crd_u  e_walt\n",
       "4          2.0  21.0  11.0    1.0     2.0\n",
       "7          1.0   4.0   1.0    0.0     0.0\n",
       "14         1.0  48.0   6.0    1.0     2.0\n",
       "15         2.0  42.0   6.0    1.0     2.0\n",
       "17         2.0  21.0  11.0    1.0     2.0\n",
       "...        ...   ...   ...    ...     ...\n",
       "319338     1.0  16.0   5.0    0.0     0.0\n",
       "319339     1.0  40.0   5.0    1.0     2.0\n",
       "319340     2.0  38.0   3.0    1.0     2.0\n",
       "319341     2.0  15.0   3.0    0.0     0.0\n",
       "319342     2.0  10.0   3.0    0.0     0.0\n",
       "\n",
       "[173318 rows x 5 columns]"
      ]
     },
     "execution_count": 12,
     "metadata": {},
     "output_type": "execute_result"
    }
   ],
   "source": [
    "# The cleaned dataframe\n",
    "#\n",
    "df"
   ]
  },
  {
   "cell_type": "code",
   "execution_count": 13,
   "metadata": {},
   "outputs": [
    {
     "name": "stdout",
     "output_type": "stream",
     "text": [
      "        gender   age   edu  crd_u  e_walt\n",
      "4          2.0  21.0  11.0    1.0     0.0\n",
      "7          1.0   4.0   1.0    0.0     0.0\n",
      "14         1.0  48.0   6.0    1.0     0.0\n",
      "15         2.0  42.0   6.0    1.0     0.0\n",
      "17         2.0  21.0  11.0    1.0     0.0\n",
      "...        ...   ...   ...    ...     ...\n",
      "319338     1.0  16.0   5.0    0.0     0.0\n",
      "319339     1.0  40.0   5.0    1.0     0.0\n",
      "319340     2.0  38.0   3.0    1.0     0.0\n",
      "319341     2.0  15.0   3.0    0.0     0.0\n",
      "319342     2.0  10.0   3.0    0.0     0.0\n",
      "\n",
      "[173318 rows x 5 columns]\n"
     ]
    },
    {
     "name": "stderr",
     "output_type": "stream",
     "text": [
      "C:\\Users\\gaura\\anaconda3\\lib\\site-packages\\pandas\\core\\indexing.py:1732: SettingWithCopyWarning: \n",
      "A value is trying to be set on a copy of a slice from a DataFrame\n",
      "\n",
      "See the caveats in the documentation: https://pandas.pydata.org/pandas-docs/stable/user_guide/indexing.html#returning-a-view-versus-a-copy\n",
      "  self._setitem_single_block(indexer, value, name)\n",
      "C:\\Users\\gaura\\anaconda3\\lib\\site-packages\\pandas\\core\\indexing.py:723: SettingWithCopyWarning: \n",
      "A value is trying to be set on a copy of a slice from a DataFrame\n",
      "\n",
      "See the caveats in the documentation: https://pandas.pydata.org/pandas-docs/stable/user_guide/indexing.html#returning-a-view-versus-a-copy\n",
      "  iloc._setitem_with_indexer(indexer, value, self.name)\n"
     ]
    }
   ],
   "source": [
    "# Replacing the values 2 with 0\n",
    "#\n",
    "df.loc[df.crd_u == 2,'crd_u'] = 0\n",
    "df.loc[df.e_walt == 2,'e_walt'] = 0\n",
    "print(df)"
   ]
  },
  {
   "cell_type": "code",
   "execution_count": 14,
   "metadata": {},
   "outputs": [],
   "source": [
    "# Creating the X (independent features) and Y (dependent features)\n",
    "X = df.iloc[:,np.r_[0:3]].values\n",
    "y = df.iloc[:,np.r_[3]].values # 3 for credit card and 4 for e-walllet"
   ]
  },
  {
   "cell_type": "code",
   "execution_count": 15,
   "metadata": {},
   "outputs": [
    {
     "data": {
      "text/plain": [
       "array([[ 2., 21., 11.],\n",
       "       [ 1.,  4.,  1.],\n",
       "       [ 1., 48.,  6.],\n",
       "       ...,\n",
       "       [ 2., 38.,  3.],\n",
       "       [ 2., 15.,  3.],\n",
       "       [ 2., 10.,  3.]])"
      ]
     },
     "execution_count": 15,
     "metadata": {},
     "output_type": "execute_result"
    }
   ],
   "source": [
    "X"
   ]
  },
  {
   "cell_type": "code",
   "execution_count": 16,
   "metadata": {},
   "outputs": [
    {
     "data": {
      "text/plain": [
       "array([[1.],\n",
       "       [0.],\n",
       "       [1.],\n",
       "       ...,\n",
       "       [1.],\n",
       "       [0.],\n",
       "       [0.]])"
      ]
     },
     "execution_count": 16,
     "metadata": {},
     "output_type": "execute_result"
    }
   ],
   "source": [
    "y"
   ]
  },
  {
   "cell_type": "code",
   "execution_count": 17,
   "metadata": {},
   "outputs": [],
   "source": [
    "# Creating training and testing data\n",
    "X_train, X_test, y_train, y_test = train_test_split(X, y, test_size=0.2, random_state=25)"
   ]
  },
  {
   "cell_type": "code",
   "execution_count": 18,
   "metadata": {},
   "outputs": [
    {
     "name": "stdout",
     "output_type": "stream",
     "text": [
      "X_train:\n",
      " [[ 1. 15.  4.]\n",
      " [ 1. 30.  5.]\n",
      " [ 1.  8.  2.]\n",
      " ...\n",
      " [ 1.  3.  1.]\n",
      " [ 2.  4.  1.]\n",
      " [ 1. 13.  4.]] \n",
      " Y_train:\n",
      " [[0.]\n",
      " [1.]\n",
      " [0.]\n",
      " ...\n",
      " [0.]\n",
      " [0.]\n",
      " [0.]] \n",
      " X_test:\n",
      " [[ 1. 58.  1.]\n",
      " [ 2. 12.  4.]\n",
      " [ 1. 16.  5.]\n",
      " ...\n",
      " [ 1.  5.  2.]\n",
      " [ 1. 48. 11.]\n",
      " [ 1. 23.  5.]] \n",
      " Y_test:\n",
      " [[1.]\n",
      " [0.]\n",
      " [0.]\n",
      " ...\n",
      " [0.]\n",
      " [1.]\n",
      " [1.]]\n"
     ]
    }
   ],
   "source": [
    "print('X_train:\\n',X_train, '\\n Y_train:\\n',y_train,'\\n X_test:\\n',X_test, '\\n Y_test:\\n',y_test )"
   ]
  },
  {
   "cell_type": "code",
   "execution_count": 19,
   "metadata": {
    "scrolled": true
   },
   "outputs": [
    {
     "name": "stdout",
     "output_type": "stream",
     "text": [
      "X_train:\n",
      " [[ 1. 15.  4.]\n",
      " [ 1. 30.  5.]\n",
      " [ 1.  8.  2.]\n",
      " ...\n",
      " [ 1.  3.  1.]\n",
      " [ 2.  4.  1.]\n",
      " [ 1. 13.  4.]] \n",
      " \n",
      " X_test:\n",
      " [[ 1. 58.  1.]\n",
      " [ 2. 12.  4.]\n",
      " [ 1. 16.  5.]\n",
      " ...\n",
      " [ 1.  5.  2.]\n",
      " [ 1. 48. 11.]\n",
      " [ 1. 23.  5.]]\n"
     ]
    }
   ],
   "source": [
    "print('X_train:\\n',X_train,'\\n \\n X_test:\\n',X_test)"
   ]
  },
  {
   "cell_type": "code",
   "execution_count": 20,
   "metadata": {},
   "outputs": [],
   "source": [
    "# Standardizing the data\n",
    "#\n",
    "ss=StandardScaler()\n",
    "X_train_st=ss.fit_transform(X_train)\n",
    "X_test_st=ss.fit_transform(X_test)"
   ]
  },
  {
   "cell_type": "code",
   "execution_count": null,
   "metadata": {},
   "outputs": [],
   "source": []
  },
  {
   "cell_type": "code",
   "execution_count": 21,
   "metadata": {},
   "outputs": [
    {
     "data": {
      "text/plain": [
       "'Decision Tree Classifier'"
      ]
     },
     "execution_count": 21,
     "metadata": {},
     "output_type": "execute_result"
    }
   ],
   "source": [
    "'''Decision Tree Classifier'''"
   ]
  },
  {
   "cell_type": "code",
   "execution_count": 22,
   "metadata": {},
   "outputs": [
    {
     "data": {
      "text/plain": [
       "DecisionTreeClassifier(criterion='entropy', random_state=0)"
      ]
     },
     "execution_count": 22,
     "metadata": {},
     "output_type": "execute_result"
    }
   ],
   "source": [
    "# Training Decision tree model\n",
    "DTClassifier=DecisionTreeClassifier(criterion='entropy', random_state=0)\n",
    "DTClassifier.fit(X_train,y_train)"
   ]
  },
  {
   "cell_type": "code",
   "execution_count": 23,
   "metadata": {},
   "outputs": [
    {
     "data": {
      "text/plain": [
       "array([1., 0., 0., ..., 0., 1., 1.])"
      ]
     },
     "execution_count": 23,
     "metadata": {},
     "output_type": "execute_result"
    }
   ],
   "source": [
    "# Making predictions for the testing values\n",
    "y_pred = DTClassifier.predict(X_test)\n",
    "y_pred"
   ]
  },
  {
   "cell_type": "code",
   "execution_count": 24,
   "metadata": {},
   "outputs": [
    {
     "name": "stdout",
     "output_type": "stream",
     "text": [
      "The accuracy of decision tree is:  0.9103681052388646\n"
     ]
    }
   ],
   "source": [
    "# Accuracy of the model\n",
    "#\n",
    "print('The accuracy of decision tree is: ', metrics.accuracy_score(y_pred,y_test))"
   ]
  },
  {
   "cell_type": "code",
   "execution_count": 25,
   "metadata": {},
   "outputs": [
    {
     "name": "stdout",
     "output_type": "stream",
     "text": [
      "[[20460   331]\n",
      " [ 2776 11097]]\n"
     ]
    }
   ],
   "source": [
    "# Confusion Matrix\n",
    "print(confusion_matrix(y_pred, y_test))"
   ]
  },
  {
   "cell_type": "code",
   "execution_count": null,
   "metadata": {},
   "outputs": [],
   "source": []
  },
  {
   "cell_type": "code",
   "execution_count": 26,
   "metadata": {},
   "outputs": [
    {
     "data": {
      "text/plain": [
       "'Naive Bayes Classifier'"
      ]
     },
     "execution_count": 26,
     "metadata": {},
     "output_type": "execute_result"
    }
   ],
   "source": [
    "'''Naive Bayes Classifier'''"
   ]
  },
  {
   "cell_type": "code",
   "execution_count": 27,
   "metadata": {},
   "outputs": [
    {
     "data": {
      "text/plain": [
       "GaussianNB()"
      ]
     },
     "execution_count": 27,
     "metadata": {},
     "output_type": "execute_result"
    }
   ],
   "source": [
    "# Training the model\n",
    "NBClassifier=GaussianNB()\n",
    "NBClassifier.fit(X_train_st, y_train.ravel())"
   ]
  },
  {
   "cell_type": "code",
   "execution_count": 28,
   "metadata": {},
   "outputs": [
    {
     "data": {
      "text/plain": [
       "array([1., 1., 1., ..., 1., 1., 1.])"
      ]
     },
     "execution_count": 28,
     "metadata": {},
     "output_type": "execute_result"
    }
   ],
   "source": [
    "# Making predictions for the testing values\n",
    "y_pred1 = NBClassifier.predict(X_test)\n",
    "y_pred1"
   ]
  },
  {
   "cell_type": "code",
   "execution_count": 29,
   "metadata": {},
   "outputs": [
    {
     "name": "stdout",
     "output_type": "stream",
     "text": [
      "The accuracy of Naive baise is:  0.3400934687283637\n"
     ]
    }
   ],
   "source": [
    "# Accuracy of the model\n",
    "#\n",
    "print('The accuracy of Naive baise is: ', metrics.accuracy_score(y_pred1, y_test))"
   ]
  },
  {
   "cell_type": "code",
   "execution_count": 30,
   "metadata": {},
   "outputs": [
    {
     "name": "stdout",
     "output_type": "stream",
     "text": [
      "[[  361     0]\n",
      " [22875 11428]]\n"
     ]
    }
   ],
   "source": [
    "# Confusion Matrix\n",
    "print(confusion_matrix(y_pred1, y_test))"
   ]
  },
  {
   "cell_type": "code",
   "execution_count": null,
   "metadata": {},
   "outputs": [],
   "source": []
  },
  {
   "cell_type": "code",
   "execution_count": 31,
   "metadata": {},
   "outputs": [
    {
     "data": {
      "text/plain": [
       "'Multivariate Logistic Regression'"
      ]
     },
     "execution_count": 31,
     "metadata": {},
     "output_type": "execute_result"
    }
   ],
   "source": [
    "'''Multivariate Logistic Regression'''"
   ]
  },
  {
   "cell_type": "code",
   "execution_count": 32,
   "metadata": {},
   "outputs": [
    {
     "name": "stdout",
     "output_type": "stream",
     "text": [
      "Optimization terminated successfully.\n",
      "         Current function value: 0.309569\n",
      "         Iterations 7\n"
     ]
    },
    {
     "data": {
      "text/html": [
       "<table class=\"simpletable\">\n",
       "<tr>\n",
       "        <td>Model:</td>              <td>Logit</td>      <td>Pseudo R-squared:</td>    <td>0.511</td>   \n",
       "</tr>\n",
       "<tr>\n",
       "  <td>Dependent Variable:</td>         <td>y</td>              <td>AIC:</td>        <td>107315.6331</td>\n",
       "</tr>\n",
       "<tr>\n",
       "         <td>Date:</td>        <td>2021-10-27 00:07</td>       <td>BIC:</td>        <td>107355.8846</td>\n",
       "</tr>\n",
       "<tr>\n",
       "   <td>No. Observations:</td>       <td>173318</td>       <td>Log-Likelihood:</td>    <td>-53654.</td>  \n",
       "</tr>\n",
       "<tr>\n",
       "       <td>Df Model:</td>              <td>3</td>            <td>LL-Null:</td>      <td>-1.0963e+05</td>\n",
       "</tr>\n",
       "<tr>\n",
       "     <td>Df Residuals:</td>         <td>173314</td>        <td>LLR p-value:</td>      <td>0.0000</td>   \n",
       "</tr>\n",
       "<tr>\n",
       "      <td>Converged:</td>           <td>1.0000</td>           <td>Scale:</td>         <td>1.0000</td>   \n",
       "</tr>\n",
       "<tr>\n",
       "    <td>No. Iterations:</td>        <td>7.0000</td>              <td></td>               <td></td>      \n",
       "</tr>\n",
       "</table>\n",
       "<table class=\"simpletable\">\n",
       "<tr>\n",
       "    <td></td>     <th>Coef.</th>  <th>Std.Err.</th>     <th>z</th>      <th>P>|z|</th> <th>[0.025</th>  <th>0.975]</th> \n",
       "</tr>\n",
       "<tr>\n",
       "  <th>const</th> <td>-4.3895</td>  <td>0.0328</td>  <td>-133.8970</td> <td>0.0000</td> <td>-4.4537</td> <td>-4.3252</td>\n",
       "</tr>\n",
       "<tr>\n",
       "  <th>x1</th>    <td>-0.6203</td>  <td>0.0162</td>  <td>-38.2777</td>  <td>0.0000</td> <td>-0.6520</td> <td>-0.5885</td>\n",
       "</tr>\n",
       "<tr>\n",
       "  <th>x2</th>    <td>0.1010</td>   <td>0.0006</td>  <td>181.9335</td>  <td>0.0000</td> <td>0.0999</td>  <td>0.1021</td> \n",
       "</tr>\n",
       "<tr>\n",
       "  <th>x3</th>    <td>0.5078</td>   <td>0.0040</td>  <td>126.8635</td>  <td>0.0000</td> <td>0.4999</td>  <td>0.5156</td> \n",
       "</tr>\n",
       "</table>"
      ],
      "text/plain": [
       "<class 'statsmodels.iolib.summary2.Summary'>\n",
       "\"\"\"\n",
       "                          Results: Logit\n",
       "==================================================================\n",
       "Model:              Logit            Pseudo R-squared: 0.511      \n",
       "Dependent Variable: y                AIC:              107315.6331\n",
       "Date:               2021-10-27 00:07 BIC:              107355.8846\n",
       "No. Observations:   173318           Log-Likelihood:   -53654.    \n",
       "Df Model:           3                LL-Null:          -1.0963e+05\n",
       "Df Residuals:       173314           LLR p-value:      0.0000     \n",
       "Converged:          1.0000           Scale:            1.0000     \n",
       "No. Iterations:     7.0000                                        \n",
       "--------------------------------------------------------------------\n",
       "          Coef.    Std.Err.       z       P>|z|     [0.025    0.975]\n",
       "--------------------------------------------------------------------\n",
       "const    -4.3895     0.0328   -133.8970   0.0000   -4.4537   -4.3252\n",
       "x1       -0.6203     0.0162    -38.2777   0.0000   -0.6520   -0.5885\n",
       "x2        0.1010     0.0006    181.9335   0.0000    0.0999    0.1021\n",
       "x3        0.5078     0.0040    126.8635   0.0000    0.4999    0.5156\n",
       "==================================================================\n",
       "\n",
       "\"\"\""
      ]
     },
     "execution_count": 32,
     "metadata": {},
     "output_type": "execute_result"
    }
   ],
   "source": [
    "logit = sm.Logit(y, sm.add_constant(X)).fit()\n",
    "logit.summary2()"
   ]
  },
  {
   "cell_type": "code",
   "execution_count": 33,
   "metadata": {},
   "outputs": [
    {
     "data": {
      "text/plain": [
       "array([1., 0., 0., ..., 0., 1., 0.])"
      ]
     },
     "execution_count": 33,
     "metadata": {},
     "output_type": "execute_result"
    }
   ],
   "source": [
    "# Training the model\n",
    "logistic1 = LogisticRegression()\n",
    "logistic1.fit(X_train,y_train.ravel())\n",
    "predict1 = logistic1.predict(X_test)\n",
    "predict1"
   ]
  },
  {
   "cell_type": "code",
   "execution_count": 34,
   "metadata": {},
   "outputs": [
    {
     "name": "stdout",
     "output_type": "stream",
     "text": [
      "The accuracy of Logistic Regression is:  0.8715381952457881\n"
     ]
    }
   ],
   "source": [
    "# Accuracy of the model\n",
    "#\n",
    "print('The accuracy of Logistic Regression is: ', metrics.accuracy_score(predict1,y_test))"
   ]
  },
  {
   "cell_type": "code",
   "execution_count": 35,
   "metadata": {},
   "outputs": [
    {
     "data": {
      "text/plain": [
       "array([[21271,  2488],\n",
       "       [ 1965,  8940]], dtype=int64)"
      ]
     },
     "execution_count": 35,
     "metadata": {},
     "output_type": "execute_result"
    }
   ],
   "source": [
    "# Confusion Matrix\n",
    "confusion_matrix(predict1, y_test)"
   ]
  },
  {
   "cell_type": "code",
   "execution_count": 36,
   "metadata": {},
   "outputs": [
    {
     "data": {
      "image/png": "[encoded data removed]",
      "text/plain": [
       "<Figure size 432x288 with 1 Axes>"
      ]
     },
     "metadata": {
      "needs_background": "light"
     },
     "output_type": "display_data"
    }
   ],
   "source": [
    " \n",
    "# Sigmoid function\n",
    "#\n",
    "def sigmoid(z):\n",
    "    return 1 / (1 + np.exp(-z))\n",
    "\n",
    "\n",
    "# Creating sample Z points\n",
    "#\n",
    "z = np.arange(-5, 5, 0.1)\n",
    "\n",
    "\n",
    "# Plotting the Sigmoid function\n",
    "\n",
    "plt.plot(z, sigmoid(z))\n",
    "plt.axvline(0.0, color='k')\n",
    "plt.xlabel('X')\n",
    "plt.ylabel('Y')\n",
    "plt.yticks([0.0, 0.5, 1.0])\n",
    "ax = plt.gca()\n",
    "plt.title('Logistic regression curve')\n",
    "ax.yaxis.grid(True)\n",
    "plt.tight_layout()\n",
    "plt.show()"
   ]
  },
  {
   "cell_type": "code",
   "execution_count": 37,
   "metadata": {},
   "outputs": [
    {
     "data": {
      "image/png": "[encoded data removed]",
      "text/plain": [
       "<Figure size 432x288 with 1 Axes>"
      ]
     },
     "metadata": {
      "needs_background": "light"
     },
     "output_type": "display_data"
    }
   ],
   "source": [
    "# Logistic regression scatter plot from the data\n",
    "#\n",
    "plt.scatter(X[:,1], y, c=y, cmap='rainbow')\n",
    "plt.xlabel('X')\n",
    "plt.ylabel('Y')\n",
    "plt.title('Logistic regression scatter plot(Credit card)')\n",
    "plt.show()"
   ]
  },
  {
   "cell_type": "code",
   "execution_count": null,
   "metadata": {},
   "outputs": [],
   "source": []
  },
  {
   "cell_type": "code",
   "execution_count": 38,
   "metadata": {},
   "outputs": [
    {
     "data": {
      "text/plain": [
       "'Random Forest Classifier'"
      ]
     },
     "execution_count": 38,
     "metadata": {},
     "output_type": "execute_result"
    }
   ],
   "source": [
    "'''Random Forest Classifier'''"
   ]
  },
  {
   "cell_type": "code",
   "execution_count": 39,
   "metadata": {},
   "outputs": [
    {
     "data": {
      "text/plain": [
       "RandomForestClassifier(n_estimators=10, random_state=25)"
      ]
     },
     "execution_count": 39,
     "metadata": {},
     "output_type": "execute_result"
    }
   ],
   "source": [
    "# Training the model\n",
    "model = RandomForestClassifier(n_estimators=10, random_state=25)\n",
    "model.fit(X_train, y_train.ravel())"
   ]
  },
  {
   "cell_type": "code",
   "execution_count": 40,
   "metadata": {},
   "outputs": [
    {
     "data": {
      "text/plain": [
       "array([1., 0., 0., ..., 0., 1., 1.])"
      ]
     },
     "execution_count": 40,
     "metadata": {},
     "output_type": "execute_result"
    }
   ],
   "source": [
    "prediction = model.predict(X_test)\n",
    "prediction"
   ]
  },
  {
   "cell_type": "code",
   "execution_count": 41,
   "metadata": {},
   "outputs": [
    {
     "name": "stdout",
     "output_type": "stream",
     "text": [
      "The accuracy of Random Forest Classifier is:  0.9112047080544657\n"
     ]
    }
   ],
   "source": [
    "# Accuracy of the model\n",
    "#\n",
    "print('The accuracy of Random Forest Classifier is: ', metrics.accuracy_score(prediction,y_test))"
   ]
  },
  {
   "cell_type": "code",
   "execution_count": 42,
   "metadata": {},
   "outputs": [
    {
     "data": {
      "text/plain": [
       "array([[20450,   292],\n",
       "       [ 2786, 11136]], dtype=int64)"
      ]
     },
     "execution_count": 42,
     "metadata": {},
     "output_type": "execute_result"
    }
   ],
   "source": [
    "# Confusion Matrix\n",
    "#\n",
    "confusion_matrix(prediction, y_test)"
   ]
  },
  {
   "cell_type": "code",
   "execution_count": 43,
   "metadata": {},
   "outputs": [
    {
     "name": "stdout",
     "output_type": "stream",
     "text": [
      "age       0.786825\n",
      "edu       0.188612\n",
      "gender    0.024563\n",
      "dtype: float64\n"
     ]
    }
   ],
   "source": [
    "# Creating a new dataframe with only independent features; it will be used for measuring the prominent feature\n",
    "#\n",
    "G = df.drop(['crd_u', 'e_walt'], axis=1)\n",
    "G\n",
    "\n",
    "# Prominent feature according to Random forest algorithm\n",
    "#\n",
    "feature_list = list(G.columns)\n",
    "feature_imp = pd.Series(model.feature_importances_, index = feature_list).sort_values(ascending=False)\n",
    "print(feature_imp)"
   ]
  },
  {
   "cell_type": "code",
   "execution_count": null,
   "metadata": {},
   "outputs": [],
   "source": []
  },
  {
   "cell_type": "code",
   "execution_count": 44,
   "metadata": {},
   "outputs": [
    {
     "data": {
      "text/plain": [
       "'Bagging'"
      ]
     },
     "execution_count": 44,
     "metadata": {},
     "output_type": "execute_result"
    }
   ],
   "source": [
    "'''Bagging'''"
   ]
  },
  {
   "cell_type": "code",
   "execution_count": 45,
   "metadata": {},
   "outputs": [
    {
     "data": {
      "text/plain": [
       "BaggingClassifier(base_estimator=DecisionTreeClassifier(), max_samples=0.5,\n",
       "                  n_estimators=20)"
      ]
     },
     "execution_count": 45,
     "metadata": {},
     "output_type": "execute_result"
    }
   ],
   "source": [
    "# Training the model\n",
    "#\n",
    "bg = BaggingClassifier(DecisionTreeClassifier(), max_samples= 0.5, max_features = 1.0, n_estimators = 20)\n",
    "bg.fit(X_train,y_train.ravel())"
   ]
  },
  {
   "cell_type": "code",
   "execution_count": 46,
   "metadata": {},
   "outputs": [
    {
     "data": {
      "text/plain": [
       "0.9118682206323563"
      ]
     },
     "execution_count": 46,
     "metadata": {},
     "output_type": "execute_result"
    }
   ],
   "source": [
    "# Testing the model\n",
    "#\n",
    "bg.score(X_test,y_test)"
   ]
  },
  {
   "cell_type": "code",
   "execution_count": null,
   "metadata": {},
   "outputs": [],
   "source": []
  },
  {
   "cell_type": "code",
   "execution_count": 47,
   "metadata": {},
   "outputs": [
    {
     "data": {
      "text/plain": [
       "'Boosting AdaBoost'"
      ]
     },
     "execution_count": 47,
     "metadata": {},
     "output_type": "execute_result"
    }
   ],
   "source": [
    "'''Boosting AdaBoost'''"
   ]
  },
  {
   "cell_type": "code",
   "execution_count": 48,
   "metadata": {},
   "outputs": [
    {
     "data": {
      "text/plain": [
       "AdaBoostClassifier(base_estimator=DecisionTreeClassifier(), learning_rate=1,\n",
       "                   n_estimators=5)"
      ]
     },
     "execution_count": 48,
     "metadata": {},
     "output_type": "execute_result"
    }
   ],
   "source": [
    "# Training the model\n",
    "#\n",
    "adb = AdaBoostClassifier(DecisionTreeClassifier(),n_estimators = 5, learning_rate = 1)\n",
    "adb.fit(X_train,y_train.ravel())"
   ]
  },
  {
   "cell_type": "code",
   "execution_count": 49,
   "metadata": {},
   "outputs": [
    {
     "data": {
      "text/plain": [
       "0.9110893145626586"
      ]
     },
     "execution_count": 49,
     "metadata": {},
     "output_type": "execute_result"
    }
   ],
   "source": [
    "# Training the model\n",
    "#\n",
    "adb.score(X_test,y_test)"
   ]
  },
  {
   "cell_type": "code",
   "execution_count": null,
   "metadata": {},
   "outputs": [],
   "source": []
  },
  {
   "cell_type": "code",
   "execution_count": 50,
   "metadata": {},
   "outputs": [
    {
     "data": {
      "text/plain": [
       "'Voting Classifier'"
      ]
     },
     "execution_count": 50,
     "metadata": {},
     "output_type": "execute_result"
    }
   ],
   "source": [
    "'''Voting Classifier'''"
   ]
  },
  {
   "cell_type": "code",
   "execution_count": 51,
   "metadata": {},
   "outputs": [],
   "source": [
    "# logistic1\n",
    "# DTClassifier\n",
    "svm = SVC(kernel = 'poly', degree = 2 )"
   ]
  },
  {
   "cell_type": "code",
   "execution_count": 52,
   "metadata": {},
   "outputs": [
    {
     "data": {
      "text/plain": [
       "VotingClassifier(estimators=[('logistic1', LogisticRegression()),\n",
       "                             ('DTClassifier',\n",
       "                              DecisionTreeClassifier(criterion='entropy',\n",
       "                                                     random_state=0)),\n",
       "                             ('svm', SVC(degree=2, kernel='poly'))])"
      ]
     },
     "execution_count": 52,
     "metadata": {},
     "output_type": "execute_result"
    }
   ],
   "source": [
    "# Training the model\n",
    "#\n",
    "evc = VotingClassifier( estimators= [('logistic1',logistic1),('DTClassifier',DTClassifier),('svm',svm)], voting = 'hard')\n",
    "evc.fit(X_train,y_train.ravel())"
   ]
  },
  {
   "cell_type": "code",
   "execution_count": 53,
   "metadata": {},
   "outputs": [
    {
     "data": {
      "text/plain": [
       "0.8816928225248096"
      ]
     },
     "execution_count": 53,
     "metadata": {},
     "output_type": "execute_result"
    }
   ],
   "source": [
    "# Testing the model\n",
    "#\n",
    "evc.score(X_test, y_test)"
   ]
  },
  {
   "cell_type": "code",
   "execution_count": null,
   "metadata": {},
   "outputs": [],
   "source": []
  },
  {
   "cell_type": "code",
   "execution_count": 54,
   "metadata": {},
   "outputs": [
    {
     "data": {
      "text/plain": [
       "'SVM - Linear'"
      ]
     },
     "execution_count": 54,
     "metadata": {},
     "output_type": "execute_result"
    }
   ],
   "source": [
    "'''SVM - Linear'''"
   ]
  },
  {
   "cell_type": "code",
   "execution_count": 55,
   "metadata": {},
   "outputs": [
    {
     "data": {
      "text/plain": [
       "SVC(probability=True)"
      ]
     },
     "execution_count": 55,
     "metadata": {},
     "output_type": "execute_result"
    }
   ],
   "source": [
    "# Training the model\n",
    "#\n",
    "classifier = SVC(kernel ='linear', gamma='auto', C=2)\n",
    "classifier = SVC(probability=True)\n",
    "classifier.fit(X_train, y_train.ravel())\n"
   ]
  },
  {
   "cell_type": "code",
   "execution_count": 56,
   "metadata": {},
   "outputs": [
    {
     "name": "stdout",
     "output_type": "stream",
     "text": [
      "The accuracy of Support Vector Classifier is:  0.9080025386568198\n"
     ]
    }
   ],
   "source": [
    "# Testing the model\n",
    "#\n",
    "y_predict = classifier.predict(X_test)\n",
    "print('The accuracy of Support Vector Classifier is: ', metrics.accuracy_score(y_predict,y_test))"
   ]
  },
  {
   "cell_type": "code",
   "execution_count": null,
   "metadata": {},
   "outputs": [],
   "source": []
  },
  {
   "cell_type": "code",
   "execution_count": 57,
   "metadata": {},
   "outputs": [
    {
     "data": {
      "text/plain": [
       "'ROC(receiver operating characteristic curve) AUC(area under the curve) method'"
      ]
     },
     "execution_count": 57,
     "metadata": {},
     "output_type": "execute_result"
    }
   ],
   "source": [
    "'''ROC(receiver operating characteristic curve) AUC(area under the curve) method'''"
   ]
  },
  {
   "cell_type": "code",
   "execution_count": 58,
   "metadata": {},
   "outputs": [],
   "source": [
    "# Calculating the probabilities of different models\n",
    "#\n",
    "\n",
    "r_prob = [0 for _ in range(len(y_test))]\n",
    "rf_prob = model.predict_proba(X_test)\n",
    "nb_prob = NBClassifier.predict_proba(X_test)\n",
    "dt_prob = DTClassifier.predict_proba(X_test)\n",
    "log_prob = logistic1.predict_proba(X_test)\n",
    "bag_prob = bg.predict_proba(X_test)\n",
    "boost_prob = adb.predict_proba(X_test)\n",
    "svm_prob = classifier.predict_proba(X_test)\n",
    "# voc_prob = evc.predict_proba(X_test)\n",
    "\n",
    "rf_prob = rf_prob[:,1]\n",
    "nb_prob = nb_prob[:,1]\n",
    "dt_prob = dt_prob[:,1]\n",
    "log_prob = log_prob[:,1]\n",
    "bag_prob = bag_prob[:,1]\n",
    "boost_prob = boost_prob[:,1]\n",
    "svm_prob = svm_prob[:,1]\n",
    "# voc_prob = voc_prob[:,1]"
   ]
  },
  {
   "cell_type": "code",
   "execution_count": 59,
   "metadata": {},
   "outputs": [
    {
     "name": "stdout",
     "output_type": "stream",
     "text": [
      "Random (chance) prediction: AUROC = 0.500\n",
      "Random forest: AUROC = 0.959\n",
      "Naive Bayes: AUROC = 0.725\n",
      "Decision tree: AUROC = 0.959\n",
      "Logistic regression: AUROC = 0.943\n",
      "Bagging: AUROC = 0.960\n",
      "Boosting: AUROC = 0.960\n",
      "Support vector classifier: AUROC = 0.949\n"
     ]
    }
   ],
   "source": [
    "\n",
    "\n",
    "r_auc = roc_auc_score(y_test, r_prob)\n",
    "rf_auc = roc_auc_score(y_test, rf_prob)\n",
    "nb_auc = roc_auc_score(y_test, nb_prob)\n",
    "dt_auc = roc_auc_score(y_test, dt_prob)\n",
    "log_auc = roc_auc_score(y_test, log_prob)\n",
    "bag_auc = roc_auc_score(y_test, bag_prob)\n",
    "boost_auc = roc_auc_score(y_test, boost_prob)\n",
    "svm_auc = roc_auc_score(y_test, svm_prob)\n",
    "# voc_auc = roc_auc_score(y_test, voc_prob)\n",
    "\n",
    "print('Random (chance) prediction: AUROC = %.3f' % (r_auc))\n",
    "print('Random forest: AUROC = %.3f' % (rf_auc))\n",
    "print('Naive Bayes: AUROC = %.3f' % (nb_auc))\n",
    "print('Decision tree: AUROC = %.3f' % (dt_auc))\n",
    "print('Logistic regression: AUROC = %.3f' % (log_auc))\n",
    "print('Bagging: AUROC = %.3f' % (bag_auc))\n",
    "print('Boosting: AUROC = %.3f' % (boost_auc))\n",
    "print('Support vector classifier: AUROC = %.3f' % (svm_auc))\n",
    "# print('Voting classifier: AUROC = %.3f' % (voc_auc))"
   ]
  },
  {
   "cell_type": "code",
   "execution_count": 60,
   "metadata": {},
   "outputs": [],
   "source": [
    "r_fpr, r_tpr, _ = roc_curve(y_test, r_prob)\n",
    "rf_fpr, rf_tpr, _ = roc_curve(y_test, rf_prob)\n",
    "nb_fpr, nb_tpr, _ = roc_curve(y_test, nb_prob)\n",
    "dt_fpr, dt_tpr, _ = roc_curve(y_test, dt_prob)\n",
    "log_fpr, log_tpr, _ = roc_curve(y_test, log_prob)\n",
    "bag_fpr, bag_tpr, _ = roc_curve(y_test, bag_prob)\n",
    "boost_fpr, boost_tpr, _ = roc_curve(y_test, boost_prob)\n",
    "svm_fpr, svm_tpr, _ = roc_curve(y_test, svm_prob)\n",
    "# voc_fpr, voc_tpr, _ = roc_curve(y_test, voc_prob)"
   ]
  },
  {
   "cell_type": "code",
   "execution_count": 61,
   "metadata": {},
   "outputs": [
    {
     "data": {
      "text/plain": [
       "<matplotlib.legend.Legend at 0x17e2c3c79c8>"
      ]
     },
     "execution_count": 61,
     "metadata": {},
     "output_type": "execute_result"
    },
    {
     "data": {
      "image/png": "[encoded data removed]",
      "text/plain": [
       "<Figure size 432x288 with 1 Axes>"
      ]
     },
     "metadata": {
      "needs_background": "light"
     },
     "output_type": "display_data"
    }
   ],
   "source": [
    "plt.plot(r_fpr, r_tpr, linestyle='--', label='Random (chance) prediction: AUROC = %.3f' % (r_auc))\n",
    "plt.plot(rf_fpr, rf_tpr, marker='o', label='Random forest: AUROC = %.3f' % (rf_auc))\n",
    "plt.plot(nb_fpr, nb_tpr, marker='*', label='Naive Bayes: AUROC = %.3f' % (nb_auc))\n",
    "plt.plot(dt_fpr, dt_tpr, marker='1', label='Decision tree: AUROC = %.3f' % (dt_auc))\n",
    "plt.plot(log_fpr, log_tpr, marker='2', label='Logistic regression: AUROC = %.3f' % (log_auc))\n",
    "plt.plot(bag_fpr, bag_tpr, marker='2', label='Bagging: AUROC = %.3f' % (bag_auc))\n",
    "plt.plot(boost_fpr, boost_tpr, marker='2', label='Boosting: AUROC = %.3f' % (boost_auc))\n",
    "plt.plot(svm_fpr, svm_tpr, marker='2', label='SVC: AUROC = %.3f' % (svm_auc))\n",
    "# plt.plot(voc_fpr, log_tpr, marker='2', label='Voting classifier: AUROC = %.3f' % (voc_auc))\n",
    "plt.title('ROAUC curve for Credit-card')\n",
    "plt.xlabel('False positive rate')\n",
    "plt.ylabel('True positive rate')\n",
    "plt.legend()"
   ]
  },
  {
   "cell_type": "code",
   "execution_count": 62,
   "metadata": {},
   "outputs": [
    {
     "data": {
      "image/png": "[encoded data removed]",
      "text/plain": [
       "<Figure size 432x288 with 1 Axes>"
      ]
     },
     "metadata": {
      "needs_background": "light"
     },
     "output_type": "display_data"
    }
   ],
   "source": [
    "# Random forest ROAUC plot\n",
    "#\n",
    "plt.plot(r_fpr, r_tpr, linestyle='--', label='Random (chance) prediction: AUROC = %.3f' % (r_auc))\n",
    "plt.plot(rf_fpr, rf_tpr, marker='o',color ='cyan' ,label='Random forest: AUROC = %.3f' % (rf_auc))\n",
    "plt.legend()\n",
    "plt.show()"
   ]
  },
  {
   "cell_type": "code",
   "execution_count": 63,
   "metadata": {},
   "outputs": [
    {
     "data": {
      "text/plain": [
       "<matplotlib.legend.Legend at 0x17e2c43efc8>"
      ]
     },
     "execution_count": 63,
     "metadata": {},
     "output_type": "execute_result"
    },
    {
     "data": {
      "image/png": "[encoded data removed]",
      "text/plain": [
       "<Figure size 432x288 with 1 Axes>"
      ]
     },
     "metadata": {
      "needs_background": "light"
     },
     "output_type": "display_data"
    }
   ],
   "source": [
    "# Naive bayes ROAUC plot\n",
    "#\n",
    "plt.plot(r_fpr, r_tpr, linestyle='--', label='Random (chance) prediction: AUROC = %.3f' % (r_auc))\n",
    "plt.plot(nb_fpr, nb_tpr, marker='*',color ='lime', label='Naive Bayes: AUROC = %.3f' % (nb_auc))\n",
    "plt.legend()"
   ]
  },
  {
   "cell_type": "code",
   "execution_count": 64,
   "metadata": {},
   "outputs": [
    {
     "data": {
      "text/plain": [
       "<matplotlib.legend.Legend at 0x17e2c45e208>"
      ]
     },
     "execution_count": 64,
     "metadata": {},
     "output_type": "execute_result"
    },
    {
     "data": {
      "image/png": "[encoded data removed]",
      "text/plain": [
       "<Figure size 432x288 with 1 Axes>"
      ]
     },
     "metadata": {
      "needs_background": "light"
     },
     "output_type": "display_data"
    }
   ],
   "source": [
    "# Decision tree ROAUC plot\n",
    "#\n",
    "plt.plot(r_fpr, r_tpr, linestyle='--', label='Random (chance) prediction: AUROC = %.3f' % (r_auc))\n",
    "plt.plot(dt_fpr, dt_tpr, marker='1',color ='red', label='Decision tree: AUROC = %.3f' % (dt_auc))\n",
    "plt.legend()"
   ]
  },
  {
   "cell_type": "code",
   "execution_count": 65,
   "metadata": {},
   "outputs": [
    {
     "data": {
      "text/plain": [
       "<matplotlib.legend.Legend at 0x17e2c56e308>"
      ]
     },
     "execution_count": 65,
     "metadata": {},
     "output_type": "execute_result"
    },
    {
     "data": {
      "image/png": "[encoded data removed]",
      "text/plain": [
       "<Figure size 432x288 with 1 Axes>"
      ]
     },
     "metadata": {
      "needs_background": "light"
     },
     "output_type": "display_data"
    }
   ],
   "source": [
    "# Logistic regression ROAUC plot\n",
    "#\n",
    "plt.plot(r_fpr, r_tpr, linestyle='--', label='Random (chance) prediction: AUROC = %.3f' % (r_auc))\n",
    "plt.plot(log_fpr, log_tpr, marker='2',color ='yellow', label='Logistic regression: AUROC = %.3f' % (log_auc))\n",
    "plt.legend()"
   ]
  },
  {
   "cell_type": "code",
   "execution_count": 66,
   "metadata": {},
   "outputs": [
    {
     "data": {
      "text/plain": [
       "<matplotlib.legend.Legend at 0x17e2c49b788>"
      ]
     },
     "execution_count": 66,
     "metadata": {},
     "output_type": "execute_result"
    },
    {
     "data": {
      "image/png": "[encoded data removed]",
      "text/plain": [
       "<Figure size 432x288 with 1 Axes>"
      ]
     },
     "metadata": {
      "needs_background": "light"
     },
     "output_type": "display_data"
    }
   ],
   "source": [
    "# Bagging ROAUC plot\n",
    "#\n",
    "plt.plot(r_fpr, r_tpr, linestyle='--', label='Random (chance) prediction: AUROC = %.3f' % (r_auc))\n",
    "plt.plot(bag_fpr, bag_tpr, marker='2',color ='orange', label='Bagging: AUROC = %.3f' % (bag_auc))\n",
    "plt.legend()"
   ]
  },
  {
   "cell_type": "code",
   "execution_count": 67,
   "metadata": {},
   "outputs": [
    {
     "data": {
      "text/plain": [
       "<matplotlib.legend.Legend at 0x17e2d245888>"
      ]
     },
     "execution_count": 67,
     "metadata": {},
     "output_type": "execute_result"
    },
    {
     "data": {
      "image/png": "[encoded data removed]",
      "text/plain": [
       "<Figure size 432x288 with 1 Axes>"
      ]
     },
     "metadata": {
      "needs_background": "light"
     },
     "output_type": "display_data"
    }
   ],
   "source": [
    "# Boosting ROAUC plot\n",
    "#\n",
    "plt.plot(r_fpr, r_tpr, linestyle='--', label='Random (chance) prediction: AUROC = %.3f' % (r_auc))\n",
    "plt.plot(boost_fpr, boost_tpr, marker='2',color ='violet', label='Boosting: AUROC = %.3f' % (boost_auc))\n",
    "plt.legend()"
   ]
  },
  {
   "cell_type": "code",
   "execution_count": 68,
   "metadata": {},
   "outputs": [
    {
     "data": {
      "image/png": "[encoded data removed]",
      "text/plain": [
       "<Figure size 432x288 with 1 Axes>"
      ]
     },
     "metadata": {
      "needs_background": "light"
     },
     "output_type": "display_data"
    }
   ],
   "source": [
    "# SVC ROAUC plot\n",
    "#\n",
    "plt.plot(r_fpr, r_tpr, linestyle='--', label='Random (chance) prediction: AUROC = %.3f' % (r_auc))\n",
    "plt.plot(svm_fpr, svm_tpr, marker='2', color = 'lawngreen', label='SVC: AUROC = %.3f' % (svm_auc))\n",
    "plt.legend()\n",
    "plt.show()"
   ]
  },
  {
   "cell_type": "code",
   "execution_count": null,
   "metadata": {},
   "outputs": [],
   "source": []
  }
 ],
 "metadata": {
  "kernelspec": {
   "display_name": "Python 3",
   "language": "python",
   "name": "python3"
  },
  "language_info": {
   "codemirror_mode": {
    "name": "ipython",
    "version": 3
   },
   "file_extension": ".py",
   "mimetype": "text/x-python",
   "name": "python",
   "nbconvert_exporter": "python",
   "pygments_lexer": "ipython3",
   "version": "3.7.11"
  }
 },
 "nbformat": 4,
 "nbformat_minor": 4
}
